{
 "cells": [
  {
   "cell_type": "code",
   "execution_count": 1,
   "metadata": {},
   "outputs": [],
   "source": [
    "import numpy as np\n",
    "import pandas as pd\n",
    "import seaborn as sns\n",
    "import pickle\n",
    "\n",
    "from sklearn.model_selection import train_test_split\n",
    "from sklearn.preprocessing import StandardScaler\n",
    "\n",
    "from sklearn.tree import DecisionTreeRegressor\n",
    "from sklearn.ensemble import RandomForestRegressor\n",
    "from sklearn.linear_model import Ridge\n",
    "from sklearn.svm import SVR\n",
    "from sklearn.model_selection import GridSearchCV, cross_val_score, ShuffleSplit, StratifiedKFold, KFold\n",
    "\n",
    "from sklearn.metrics import r2_score, make_scorer, mean_squared_error\n",
    "\n",
    "from matplotlib import pyplot as plt"
   ]
  },
  {
   "cell_type": "code",
   "execution_count": 3,
   "metadata": {},
   "outputs": [
    {
     "data": {
      "text/html": [
       "<div>\n",
       "<style scoped>\n",
       "    .dataframe tbody tr th:only-of-type {\n",
       "        vertical-align: middle;\n",
       "    }\n",
       "\n",
       "    .dataframe tbody tr th {\n",
       "        vertical-align: top;\n",
       "    }\n",
       "\n",
       "    .dataframe thead th {\n",
       "        text-align: right;\n",
       "    }\n",
       "</style>\n",
       "<table border=\"1\" class=\"dataframe\">\n",
       "  <thead>\n",
       "    <tr style=\"text-align: right;\">\n",
       "      <th></th>\n",
       "      <th>Brand</th>\n",
       "      <th>Best Sellers Rank</th>\n",
       "      <th>weight</th>\n",
       "      <th>Laptop type</th>\n",
       "      <th>Laptop purpose</th>\n",
       "      <th>Screen Size</th>\n",
       "      <th>Hard Drive Size</th>\n",
       "      <th>Hard Drive Type</th>\n",
       "      <th>RAM speed</th>\n",
       "      <th>RAM size</th>\n",
       "      <th>RAM type</th>\n",
       "      <th>CPU rank</th>\n",
       "      <th>GPU performance</th>\n",
       "      <th>Optical Drive Type</th>\n",
       "      <th>Operating System</th>\n",
       "      <th>Number of USB 3.0 Ports</th>\n",
       "      <th>Number of USB 2.0 Ports</th>\n",
       "      <th>Customer Reviews</th>\n",
       "      <th>price</th>\n",
       "    </tr>\n",
       "  </thead>\n",
       "  <tbody>\n",
       "    <tr>\n",
       "      <th>0</th>\n",
       "      <td>samsung</td>\n",
       "      <td>293.0</td>\n",
       "      <td>1.179340</td>\n",
       "      <td>traditional</td>\n",
       "      <td>general</td>\n",
       "      <td>13.3</td>\n",
       "      <td>32.0</td>\n",
       "      <td>other</td>\n",
       "      <td>2.133</td>\n",
       "      <td>4.0</td>\n",
       "      <td>ddr4</td>\n",
       "      <td>2521.0</td>\n",
       "      <td>1.8</td>\n",
       "      <td>No</td>\n",
       "      <td>chrome os</td>\n",
       "      <td>0.0</td>\n",
       "      <td>0.0</td>\n",
       "      <td>4.2</td>\n",
       "      <td>100.0</td>\n",
       "    </tr>\n",
       "    <tr>\n",
       "      <th>1</th>\n",
       "      <td>lenovo</td>\n",
       "      <td>256.0</td>\n",
       "      <td>1.587573</td>\n",
       "      <td>2 in 1</td>\n",
       "      <td>general</td>\n",
       "      <td>14.0</td>\n",
       "      <td>32.0</td>\n",
       "      <td>other</td>\n",
       "      <td>2.133</td>\n",
       "      <td>32.0</td>\n",
       "      <td>ddr</td>\n",
       "      <td>2867.0</td>\n",
       "      <td>1.0</td>\n",
       "      <td>Yes</td>\n",
       "      <td>chrome os</td>\n",
       "      <td>2.0</td>\n",
       "      <td>0.0</td>\n",
       "      <td>4.5</td>\n",
       "      <td>103.0</td>\n",
       "    </tr>\n",
       "    <tr>\n",
       "      <th>2</th>\n",
       "      <td>hp</td>\n",
       "      <td>86.0</td>\n",
       "      <td>1.356241</td>\n",
       "      <td>traditional</td>\n",
       "      <td>general</td>\n",
       "      <td>14.0</td>\n",
       "      <td>32.0</td>\n",
       "      <td>hybrid</td>\n",
       "      <td>1.866</td>\n",
       "      <td>4.0</td>\n",
       "      <td>ddr</td>\n",
       "      <td>2867.0</td>\n",
       "      <td>1.7</td>\n",
       "      <td>No</td>\n",
       "      <td>chrome os</td>\n",
       "      <td>1.0</td>\n",
       "      <td>0.0</td>\n",
       "      <td>4.2</td>\n",
       "      <td>106.0</td>\n",
       "    </tr>\n",
       "    <tr>\n",
       "      <th>3</th>\n",
       "      <td>samsung</td>\n",
       "      <td>328.0</td>\n",
       "      <td>1.814369</td>\n",
       "      <td>traditional</td>\n",
       "      <td>general</td>\n",
       "      <td>13.3</td>\n",
       "      <td>32.0</td>\n",
       "      <td>ssd</td>\n",
       "      <td>2.500</td>\n",
       "      <td>4.0</td>\n",
       "      <td>ddr4</td>\n",
       "      <td>2521.0</td>\n",
       "      <td>0.9</td>\n",
       "      <td>No</td>\n",
       "      <td>chrome os</td>\n",
       "      <td>2.0</td>\n",
       "      <td>1.0</td>\n",
       "      <td>4.4</td>\n",
       "      <td>109.0</td>\n",
       "    </tr>\n",
       "    <tr>\n",
       "      <th>4</th>\n",
       "      <td>acer</td>\n",
       "      <td>15.0</td>\n",
       "      <td>1.401600</td>\n",
       "      <td>traditional</td>\n",
       "      <td>general</td>\n",
       "      <td>14.0</td>\n",
       "      <td>512.0</td>\n",
       "      <td>ssd</td>\n",
       "      <td>2.800</td>\n",
       "      <td>4.0</td>\n",
       "      <td>lpddr4</td>\n",
       "      <td>2521.0</td>\n",
       "      <td>1.7</td>\n",
       "      <td>No</td>\n",
       "      <td>chrome os</td>\n",
       "      <td>4.0</td>\n",
       "      <td>1.0</td>\n",
       "      <td>4.5</td>\n",
       "      <td>115.0</td>\n",
       "    </tr>\n",
       "  </tbody>\n",
       "</table>\n",
       "</div>"
      ],
      "text/plain": [
       "     Brand  Best Sellers Rank    weight  Laptop type Laptop purpose  \\\n",
       "0  samsung              293.0  1.179340  traditional        general   \n",
       "1   lenovo              256.0  1.587573       2 in 1        general   \n",
       "2       hp               86.0  1.356241  traditional        general   \n",
       "3  samsung              328.0  1.814369  traditional        general   \n",
       "4     acer               15.0  1.401600  traditional        general   \n",
       "\n",
       "   Screen Size  Hard Drive Size Hard Drive Type  RAM speed  RAM size RAM type  \\\n",
       "0         13.3             32.0           other      2.133       4.0     ddr4   \n",
       "1         14.0             32.0           other      2.133      32.0      ddr   \n",
       "2         14.0             32.0          hybrid      1.866       4.0      ddr   \n",
       "3         13.3             32.0             ssd      2.500       4.0     ddr4   \n",
       "4         14.0            512.0             ssd      2.800       4.0   lpddr4   \n",
       "\n",
       "   CPU rank  GPU performance Optical Drive Type Operating System  \\\n",
       "0    2521.0              1.8                 No        chrome os   \n",
       "1    2867.0              1.0                Yes        chrome os   \n",
       "2    2867.0              1.7                 No        chrome os   \n",
       "3    2521.0              0.9                 No        chrome os   \n",
       "4    2521.0              1.7                 No        chrome os   \n",
       "\n",
       "   Number of USB 3.0 Ports  Number of USB 2.0 Ports  Customer Reviews  price  \n",
       "0                      0.0                      0.0               4.2  100.0  \n",
       "1                      2.0                      0.0               4.5  103.0  \n",
       "2                      1.0                      0.0               4.2  106.0  \n",
       "3                      2.0                      1.0               4.4  109.0  \n",
       "4                      4.0                      1.0               4.5  115.0  "
      ]
     },
     "execution_count": 3,
     "metadata": {},
     "output_type": "execute_result"
    }
   ],
   "source": [
    "data = pd.read_csv('tidy_data.csv')\n",
    "data = data.drop(['name', 'CPU', 'GPU', 'old_price', 'Date First Available'], axis=1)\n",
    "data.head()"
   ]
  },
  {
   "cell_type": "code",
   "execution_count": 3,
   "metadata": {},
   "outputs": [],
   "source": [
    "X = pd.get_dummies(data[['weight','CPU rank','GPU performance','Brand','Laptop type','Laptop purpose','Hard Drive Type','RAM type','Operating System']], \n",
    "                   columns=['Brand', 'Laptop type', 'Laptop purpose', 'Hard Drive Type', 'RAM type', 'Operating System'])\n",
    "y = data['price']"
   ]
  },
  {
   "cell_type": "code",
   "execution_count": 4,
   "metadata": {},
   "outputs": [],
   "source": [
    "X_train, X_test, y_train, y_test = train_test_split(X, y, test_size=.2, random_state=1)"
   ]
  },
  {
   "cell_type": "code",
   "execution_count": 5,
   "metadata": {},
   "outputs": [],
   "source": [
    "scale = StandardScaler().fit(X_train)\n",
    "X_train = scale.fit_transform(X_train)\n",
    "X_test = scale.transform(X_test)"
   ]
  },
  {
   "cell_type": "markdown",
   "metadata": {},
   "source": [
    "# Grid Search"
   ]
  },
  {
   "cell_type": "code",
   "execution_count": 6,
   "metadata": {},
   "outputs": [],
   "source": [
    "score = make_scorer(r2_score)"
   ]
  },
  {
   "cell_type": "markdown",
   "metadata": {},
   "source": [
    "## Ridge"
   ]
  },
  {
   "cell_type": "code",
   "execution_count": 7,
   "metadata": {},
   "outputs": [
    {
     "name": "stdout",
     "output_type": "stream",
     "text": [
      "Best score: 0.638803193472148\n",
      "Best params: {'alpha': 6}\n"
     ]
    }
   ],
   "source": [
    "rb = Ridge()\n",
    "grid_rb = GridSearchCV(estimator=rb, param_grid={'alpha':[1,2,3,4,5,6]}, cv=5, scoring=score)\n",
    "re = grid_rb.fit(X_train, y_train)\n",
    "print(f\"Best score: {re.best_score_}\")\n",
    "print(f\"Best params: {re.best_params_}\")"
   ]
  },
  {
   "cell_type": "code",
   "execution_count": 8,
   "metadata": {},
   "outputs": [
    {
     "data": {
      "text/plain": [
       "array([0.6227397 , 0.59610649, 0.56322946, 0.65814102, 0.63323297])"
      ]
     },
     "execution_count": 8,
     "metadata": {},
     "output_type": "execute_result"
    }
   ],
   "source": [
    "ridge = Ridge(alpha=6)\n",
    "cv = ShuffleSplit(n_splits=5, test_size=0.3, random_state=0)\n",
    "cross_val_score(ridge, X, y, cv=cv, scoring=score)"
   ]
  },
  {
   "cell_type": "code",
   "execution_count": 9,
   "metadata": {},
   "outputs": [
    {
     "name": "stdout",
     "output_type": "stream",
     "text": [
      "R2 score: 0.5786732249762574\n",
      "RMSE: 519.7246639439443\n"
     ]
    }
   ],
   "source": [
    "ridge = Ridge(alpha=6).fit(X_train, y_train)\n",
    "ridge_r2 = r2_score(y_test, ridge.predict(X_test))\n",
    "ridge_rmse = mean_squared_error(y_test, ridge.predict(X_test), squared = False)\n",
    "print(f'R2 score: {ridge_r2}')\n",
    "print(f'RMSE: {ridge_rmse}')"
   ]
  },
  {
   "cell_type": "code",
   "execution_count": 10,
   "metadata": {},
   "outputs": [],
   "source": [
    "with open('C:/Users/trinh/OneDrive/Máy tính/DS105 _Final project/Code source/Demo/ridge.pkl', 'wb') as file:\n",
    "    pickle.dump(ridge, file)"
   ]
  },
  {
   "cell_type": "markdown",
   "metadata": {},
   "source": [
    "## SVM"
   ]
  },
  {
   "cell_type": "code",
   "execution_count": 11,
   "metadata": {},
   "outputs": [
    {
     "name": "stdout",
     "output_type": "stream",
     "text": [
      "Best score: 0.513327933722786\n",
      "Best params: {'C': 100, 'gamma': 0.01}\n"
     ]
    }
   ],
   "source": [
    "svr1 = SVR(kernel='rbf')\n",
    "grid_svr = GridSearchCV(estimator=svr1, \n",
    "                        param_grid={'C':[10, 100], \n",
    "                                    'gamma':[.01, .001, .0001]}, \n",
    "                        cv=5, scoring=score)\n",
    "re = grid_svr.fit(X_train, y_train)\n",
    "print(f\"Best score: {re.best_score_}\")\n",
    "print(f\"Best params: {re.best_params_}\")"
   ]
  },
  {
   "cell_type": "code",
   "execution_count": 12,
   "metadata": {},
   "outputs": [
    {
     "name": "stdout",
     "output_type": "stream",
     "text": [
      "Best score: 0.08577952445376917\n",
      "Best params: {'C': 100, 'gamma': 0.01}\n"
     ]
    }
   ],
   "source": [
    "svr2 = SVR(kernel='poly')\n",
    "grid_svr = GridSearchCV(estimator=svr2, \n",
    "                        param_grid={'C':[10, 100], \n",
    "                                    'gamma':[.01, .001, .0001]}, \n",
    "                        cv=5, scoring=score)\n",
    "re = grid_svr.fit(X_train, y_train)\n",
    "print(f\"Best score: {re.best_score_}\")\n",
    "print(f\"Best params: {re.best_params_}\")"
   ]
  },
  {
   "cell_type": "code",
   "execution_count": 13,
   "metadata": {},
   "outputs": [
    {
     "name": "stdout",
     "output_type": "stream",
     "text": [
      "Best score: 0.6117759659358769\n",
      "Best params: {'C': 100, 'gamma': 0.01}\n"
     ]
    }
   ],
   "source": [
    "svr = SVR(kernel='linear')\n",
    "grid_svr = GridSearchCV(estimator=svr, \n",
    "                        param_grid={'C':[10, 100], \n",
    "                                    'gamma':[.01, .001, .0001]}, \n",
    "                        cv=5, scoring=score)\n",
    "re = grid_svr.fit(X_train, y_train)\n",
    "print(f\"Best score: {re.best_score_}\")\n",
    "print(f\"Best params: {re.best_params_}\")"
   ]
  },
  {
   "cell_type": "code",
   "execution_count": 14,
   "metadata": {},
   "outputs": [
    {
     "name": "stdout",
     "output_type": "stream",
     "text": [
      "R2 score: 0.5816978890523938\n",
      "RMSE: 517.8557772722206\n"
     ]
    }
   ],
   "source": [
    "svm = SVR(kernel='linear', C=100, gamma=.01).fit(X_train, y_train)\n",
    "svm_r2 = r2_score(y_test, svm.predict(X_test))\n",
    "svm_rmse = mean_squared_error(y_test, svm.predict(X_test), squared = False)\n",
    "\n",
    "print(f'R2 score: {svm_r2}')\n",
    "print(f'RMSE: {svm_rmse}')"
   ]
  },
  {
   "cell_type": "code",
   "execution_count": 15,
   "metadata": {},
   "outputs": [],
   "source": [
    "with open('C:/Users/trinh/OneDrive/Máy tính/DS105 _Final project/Code source/Demo/svm.pkl', 'wb') as file:\n",
    "    pickle.dump(svm, file)"
   ]
  },
  {
   "cell_type": "markdown",
   "metadata": {},
   "source": [
    "## Decision Tree"
   ]
  },
  {
   "cell_type": "code",
   "execution_count": 16,
   "metadata": {},
   "outputs": [
    {
     "name": "stdout",
     "output_type": "stream",
     "text": [
      "Best score: 0.5976651785935114\n",
      "Best params: {'max_depth': 100}\n"
     ]
    }
   ],
   "source": [
    "tree = DecisionTreeRegressor()\n",
    "grid_tr = GridSearchCV(estimator=tree, param_grid={'max_depth':[1,10,20,50,100,150,200]}, cv=5, scoring=score)\n",
    "re = grid_tr.fit(X_train, y_train)\n",
    "print(f\"Best score: {re.best_score_}\")\n",
    "print(f\"Best params: {re.best_params_}\")"
   ]
  },
  {
   "cell_type": "code",
   "execution_count": 17,
   "metadata": {},
   "outputs": [
    {
     "data": {
      "text/plain": [
       "array([0.57459179, 0.58811338, 0.60855427, 0.59050855, 0.66783454])"
      ]
     },
     "execution_count": 17,
     "metadata": {},
     "output_type": "execute_result"
    }
   ],
   "source": [
    "tree = DecisionTreeRegressor(max_depth=10)\n",
    "cv = ShuffleSplit(n_splits=5, test_size=0.3, random_state=0)\n",
    "cross_val_score(tree, X, y, cv=cv, scoring=score)"
   ]
  },
  {
   "cell_type": "code",
   "execution_count": 18,
   "metadata": {},
   "outputs": [
    {
     "name": "stdout",
     "output_type": "stream",
     "text": [
      "R2 score: 0.5668686044208091\n",
      "RMSE: 526.9551216502458\n"
     ]
    }
   ],
   "source": [
    "tree = DecisionTreeRegressor(max_depth=10).fit(X_train, y_train)\n",
    "tree_r2 = r2_score(y_test, tree.predict(X_test))\n",
    "tree_rmse = mean_squared_error(y_test, tree.predict(X_test), squared = False)\n",
    "\n",
    "print(f'R2 score: {tree_r2}')\n",
    "print(f'RMSE: {tree_rmse}')"
   ]
  },
  {
   "cell_type": "code",
   "execution_count": 19,
   "metadata": {},
   "outputs": [],
   "source": [
    "with open('C:/Users/trinh/OneDrive/Máy tính/DS105 _Final project/Code source/Demo/tree.pkl', 'wb') as file:\n",
    "    pickle.dump(tree, file)"
   ]
  },
  {
   "cell_type": "markdown",
   "metadata": {},
   "source": [
    "## Random Forest"
   ]
  },
  {
   "cell_type": "code",
   "execution_count": 20,
   "metadata": {},
   "outputs": [
    {
     "name": "stdout",
     "output_type": "stream",
     "text": [
      "Best score: 0.7444424080171215\n",
      "Best params: {'n_estimators': 200}\n"
     ]
    }
   ],
   "source": [
    "forest = RandomForestRegressor()\n",
    "grid_fr = GridSearchCV(estimator=forest, param_grid={'n_estimators':[10,20,50,100,200]}, cv=5, scoring=score)\n",
    "re = grid_fr.fit(X_train, y_train)\n",
    "print(f\"Best score: {re.best_score_}\")\n",
    "print(f\"Best params: {re.best_params_}\")"
   ]
  },
  {
   "cell_type": "code",
   "execution_count": 21,
   "metadata": {},
   "outputs": [
    {
     "data": {
      "text/plain": [
       "array([0.70045734, 0.67424011, 0.64623563, 0.75233008, 0.76912682])"
      ]
     },
     "execution_count": 21,
     "metadata": {},
     "output_type": "execute_result"
    }
   ],
   "source": [
    "forest = RandomForestRegressor(n_estimators=20)\n",
    "cv = ShuffleSplit(n_splits=5, test_size=0.3, random_state=0)\n",
    "cross_val_score(forest, X, y, cv=cv, scoring=score)"
   ]
  },
  {
   "cell_type": "code",
   "execution_count": 22,
   "metadata": {},
   "outputs": [
    {
     "name": "stdout",
     "output_type": "stream",
     "text": [
      "R2 score: 0.7563863538441802\n",
      "RMSE: 395.19787753880485\n"
     ]
    }
   ],
   "source": [
    "forest = RandomForestRegressor(n_estimators=20).fit(X_train, y_train)\n",
    "forest_r2 = r2_score(y_test, forest.predict(X_test))\n",
    "forest_rmse = mean_squared_error(y_test, forest.predict(X_test), squared = False)\n",
    "\n",
    "print(f'R2 score: {forest_r2}')\n",
    "print(f'RMSE: {forest_rmse}')"
   ]
  },
  {
   "cell_type": "code",
   "execution_count": 23,
   "metadata": {},
   "outputs": [],
   "source": [
    "with open('C:/Users/trinh/OneDrive/Máy tính/DS105 _Final project/Code source/Demo/forest.pkl', 'wb') as file:\n",
    "    pickle.dump(forest, file)"
   ]
  },
  {
   "cell_type": "markdown",
   "metadata": {},
   "source": [
    "# Result"
   ]
  },
  {
   "cell_type": "code",
   "execution_count": 24,
   "metadata": {},
   "outputs": [
    {
     "data": {
      "text/html": [
       "<div>\n",
       "<style scoped>\n",
       "    .dataframe tbody tr th:only-of-type {\n",
       "        vertical-align: middle;\n",
       "    }\n",
       "\n",
       "    .dataframe tbody tr th {\n",
       "        vertical-align: top;\n",
       "    }\n",
       "\n",
       "    .dataframe thead th {\n",
       "        text-align: right;\n",
       "    }\n",
       "</style>\n",
       "<table border=\"1\" class=\"dataframe\">\n",
       "  <thead>\n",
       "    <tr style=\"text-align: right;\">\n",
       "      <th></th>\n",
       "      <th>R2 score</th>\n",
       "    </tr>\n",
       "  </thead>\n",
       "  <tbody>\n",
       "    <tr>\n",
       "      <th>Ridge</th>\n",
       "      <td>0.578673</td>\n",
       "    </tr>\n",
       "    <tr>\n",
       "      <th>SVM</th>\n",
       "      <td>0.581698</td>\n",
       "    </tr>\n",
       "    <tr>\n",
       "      <th>Decision Tree</th>\n",
       "      <td>0.566869</td>\n",
       "    </tr>\n",
       "    <tr>\n",
       "      <th>Random Forest</th>\n",
       "      <td>0.756386</td>\n",
       "    </tr>\n",
       "  </tbody>\n",
       "</table>\n",
       "</div>"
      ],
      "text/plain": [
       "               R2 score\n",
       "Ridge          0.578673\n",
       "SVM            0.581698\n",
       "Decision Tree  0.566869\n",
       "Random Forest  0.756386"
      ]
     },
     "execution_count": 24,
     "metadata": {},
     "output_type": "execute_result"
    }
   ],
   "source": [
    "compare = pd.DataFrame({'R2 score':[ridge_r2, svm_r2, tree_r2, forest_r2]},\n",
    "                       index=['Ridge', 'SVM', 'Decision Tree', 'Random Forest'])\n",
    "compare"
   ]
  },
  {
   "cell_type": "code",
   "execution_count": null,
   "metadata": {},
   "outputs": [],
   "source": []
  }
 ],
 "metadata": {
  "kernelspec": {
   "display_name": "Python 3.10.6 ('ds105_project')",
   "language": "python",
   "name": "python3"
  },
  "language_info": {
   "codemirror_mode": {
    "name": "ipython",
    "version": 3
   },
   "file_extension": ".py",
   "mimetype": "text/x-python",
   "name": "python",
   "nbconvert_exporter": "python",
   "pygments_lexer": "ipython3",
   "version": "3.10.6"
  },
  "orig_nbformat": 4,
  "vscode": {
   "interpreter": {
    "hash": "91afdd06f42c92c0f12f43015620c2d978ccab671f373d131a66cf4ff58b7a46"
   }
  }
 },
 "nbformat": 4,
 "nbformat_minor": 2
}
