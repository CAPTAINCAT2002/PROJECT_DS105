{
 "cells": [
  {
   "cell_type": "code",
   "execution_count": 60,
   "metadata": {},
   "outputs": [],
   "source": [
    "import numpy as np\n",
    "import pandas as pd\n",
    "import re\n",
    "\n",
    "from sklearn.impute import KNNImputer\n",
    "from sklearn.preprocessing import LabelEncoder"
   ]
  },
  {
   "cell_type": "markdown",
   "metadata": {},
   "source": [
    "# Load data"
   ]
  },
  {
   "cell_type": "code",
   "execution_count": 61,
   "metadata": {},
   "outputs": [
    {
     "data": {
      "text/html": [
       "<div>\n",
       "<style scoped>\n",
       "    .dataframe tbody tr th:only-of-type {\n",
       "        vertical-align: middle;\n",
       "    }\n",
       "\n",
       "    .dataframe tbody tr th {\n",
       "        vertical-align: top;\n",
       "    }\n",
       "\n",
       "    .dataframe thead th {\n",
       "        text-align: right;\n",
       "    }\n",
       "</style>\n",
       "<table border=\"1\" class=\"dataframe\">\n",
       "  <thead>\n",
       "    <tr style=\"text-align: right;\">\n",
       "      <th></th>\n",
       "      <th>name</th>\n",
       "      <th>Brand</th>\n",
       "      <th>Best Sellers Rank</th>\n",
       "      <th>weight</th>\n",
       "      <th>Laptop type</th>\n",
       "      <th>Laptop purpose</th>\n",
       "      <th>Screen Size</th>\n",
       "      <th>Hard Drive Size</th>\n",
       "      <th>Hard Drive Type</th>\n",
       "      <th>Memory Speed</th>\n",
       "      <th>...</th>\n",
       "      <th>Graphics Coprocessor</th>\n",
       "      <th>Graphics Coprocessor perf</th>\n",
       "      <th>Optical Drive Type</th>\n",
       "      <th>Operating System</th>\n",
       "      <th>Number of USB 3.0 Ports</th>\n",
       "      <th>Number of USB 2.0 Ports</th>\n",
       "      <th>Date First Available</th>\n",
       "      <th>Customer Reviews</th>\n",
       "      <th>old_price</th>\n",
       "      <th>price</th>\n",
       "    </tr>\n",
       "  </thead>\n",
       "  <tbody>\n",
       "    <tr>\n",
       "      <th>0</th>\n",
       "      <td>samsung chromebook 4 (2021 model) 11.6\" intel ...</td>\n",
       "      <td>samsung</td>\n",
       "      <td>293.0</td>\n",
       "      <td>1.179340</td>\n",
       "      <td>traditional</td>\n",
       "      <td>general</td>\n",
       "      <td>11.6</td>\n",
       "      <td>32.0</td>\n",
       "      <td>other</td>\n",
       "      <td>2.133</td>\n",
       "      <td>...</td>\n",
       "      <td>intel uhd 600</td>\n",
       "      <td>1.8</td>\n",
       "      <td>NaN</td>\n",
       "      <td>chrome os</td>\n",
       "      <td>NaN</td>\n",
       "      <td>NaN</td>\n",
       "      <td>2021-06-26</td>\n",
       "      <td>4.2</td>\n",
       "      <td>139.99</td>\n",
       "      <td>100.0</td>\n",
       "    </tr>\n",
       "    <tr>\n",
       "      <th>1</th>\n",
       "      <td>lenovo - chromebook 3 11\" chromebook - amd a6 ...</td>\n",
       "      <td>lenovo</td>\n",
       "      <td>256.0</td>\n",
       "      <td>1.587573</td>\n",
       "      <td>2 in 1</td>\n",
       "      <td>general</td>\n",
       "      <td>11.6</td>\n",
       "      <td>32.0</td>\n",
       "      <td>other</td>\n",
       "      <td>NaN</td>\n",
       "      <td>...</td>\n",
       "      <td>amd radeon r2</td>\n",
       "      <td>1.0</td>\n",
       "      <td>yes</td>\n",
       "      <td>chrome os</td>\n",
       "      <td>NaN</td>\n",
       "      <td>NaN</td>\n",
       "      <td>2020-10-20</td>\n",
       "      <td>4.5</td>\n",
       "      <td>NaN</td>\n",
       "      <td>103.0</td>\n",
       "    </tr>\n",
       "    <tr>\n",
       "      <th>2</th>\n",
       "      <td>newest flagship hp chromebook, 11.6\" hd (1366 ...</td>\n",
       "      <td>hp</td>\n",
       "      <td>86.0</td>\n",
       "      <td>1.356241</td>\n",
       "      <td>traditional</td>\n",
       "      <td>general</td>\n",
       "      <td>11.6</td>\n",
       "      <td>32.0</td>\n",
       "      <td>hybrid</td>\n",
       "      <td>NaN</td>\n",
       "      <td>...</td>\n",
       "      <td>intel hd 500</td>\n",
       "      <td>1.7</td>\n",
       "      <td>no</td>\n",
       "      <td>chrome os</td>\n",
       "      <td>NaN</td>\n",
       "      <td>NaN</td>\n",
       "      <td>2020-09-23</td>\n",
       "      <td>4.2</td>\n",
       "      <td>118.00</td>\n",
       "      <td>106.0</td>\n",
       "    </tr>\n",
       "    <tr>\n",
       "      <th>3</th>\n",
       "      <td>samsung 11.6\" hd chromebook, intel celeron pro...</td>\n",
       "      <td>samsung</td>\n",
       "      <td>328.0</td>\n",
       "      <td>1.814369</td>\n",
       "      <td>traditional</td>\n",
       "      <td>general</td>\n",
       "      <td>11.6</td>\n",
       "      <td>32.0</td>\n",
       "      <td>ssd</td>\n",
       "      <td>2.500</td>\n",
       "      <td>...</td>\n",
       "      <td>intel hd</td>\n",
       "      <td>0.9</td>\n",
       "      <td>no</td>\n",
       "      <td>chrome os</td>\n",
       "      <td>NaN</td>\n",
       "      <td>1.0</td>\n",
       "      <td>2021-08-30</td>\n",
       "      <td>4.4</td>\n",
       "      <td>NaN</td>\n",
       "      <td>109.0</td>\n",
       "    </tr>\n",
       "    <tr>\n",
       "      <th>4</th>\n",
       "      <td>acer chromebook 512 laptop | intel celeron n40...</td>\n",
       "      <td>acer</td>\n",
       "      <td>15.0</td>\n",
       "      <td>1.401600</td>\n",
       "      <td>traditional</td>\n",
       "      <td>general</td>\n",
       "      <td>12.0</td>\n",
       "      <td>NaN</td>\n",
       "      <td>NaN</td>\n",
       "      <td>2.800</td>\n",
       "      <td>...</td>\n",
       "      <td>NaN</td>\n",
       "      <td>NaN</td>\n",
       "      <td>no</td>\n",
       "      <td>chrome os</td>\n",
       "      <td>4.0</td>\n",
       "      <td>NaN</td>\n",
       "      <td>2021-11-23</td>\n",
       "      <td>4.5</td>\n",
       "      <td>199.99</td>\n",
       "      <td>115.0</td>\n",
       "    </tr>\n",
       "  </tbody>\n",
       "</table>\n",
       "<p>5 rows × 24 columns</p>\n",
       "</div>"
      ],
      "text/plain": [
       "                                                name    Brand  \\\n",
       "0  samsung chromebook 4 (2021 model) 11.6\" intel ...  samsung   \n",
       "1  lenovo - chromebook 3 11\" chromebook - amd a6 ...   lenovo   \n",
       "2  newest flagship hp chromebook, 11.6\" hd (1366 ...       hp   \n",
       "3  samsung 11.6\" hd chromebook, intel celeron pro...  samsung   \n",
       "4  acer chromebook 512 laptop | intel celeron n40...     acer   \n",
       "\n",
       "   Best Sellers Rank    weight  Laptop type Laptop purpose  Screen Size  \\\n",
       "0              293.0  1.179340  traditional        general         11.6   \n",
       "1              256.0  1.587573       2 in 1        general         11.6   \n",
       "2               86.0  1.356241  traditional        general         11.6   \n",
       "3              328.0  1.814369  traditional        general         11.6   \n",
       "4               15.0  1.401600  traditional        general         12.0   \n",
       "\n",
       "   Hard Drive Size Hard Drive Type  Memory Speed  ...  Graphics Coprocessor  \\\n",
       "0             32.0           other         2.133  ...         intel uhd 600   \n",
       "1             32.0           other           NaN  ...         amd radeon r2   \n",
       "2             32.0          hybrid           NaN  ...          intel hd 500   \n",
       "3             32.0             ssd         2.500  ...             intel hd    \n",
       "4              NaN             NaN         2.800  ...                   NaN   \n",
       "\n",
       "  Graphics Coprocessor perf Optical Drive Type  Operating System  \\\n",
       "0                       1.8                NaN         chrome os   \n",
       "1                       1.0                yes         chrome os   \n",
       "2                       1.7                 no         chrome os   \n",
       "3                       0.9                 no         chrome os   \n",
       "4                       NaN                 no         chrome os   \n",
       "\n",
       "  Number of USB 3.0 Ports  Number of USB 2.0 Ports Date First Available  \\\n",
       "0                     NaN                      NaN           2021-06-26   \n",
       "1                     NaN                      NaN           2020-10-20   \n",
       "2                     NaN                      NaN           2020-09-23   \n",
       "3                     NaN                      1.0           2021-08-30   \n",
       "4                     4.0                      NaN           2021-11-23   \n",
       "\n",
       "  Customer Reviews  old_price  price  \n",
       "0              4.2     139.99  100.0  \n",
       "1              4.5        NaN  103.0  \n",
       "2              4.2     118.00  106.0  \n",
       "3              4.4        NaN  109.0  \n",
       "4              4.5     199.99  115.0  \n",
       "\n",
       "[5 rows x 24 columns]"
      ]
     },
     "execution_count": 61,
     "metadata": {},
     "output_type": "execute_result"
    }
   ],
   "source": [
    "data = pd.read_csv('temp_final_data.csv')\n",
    "data.head()"
   ]
  },
  {
   "cell_type": "code",
   "execution_count": 62,
   "metadata": {},
   "outputs": [
    {
     "data": {
      "text/plain": [
       "Number of USB 2.0 Ports      1136\n",
       "old_price                    1109\n",
       "Memory Speed                  715\n",
       "Number of USB 3.0 Ports       676\n",
       "Optical Drive Type            633\n",
       "Customer Reviews              559\n",
       "Hard Drive Type               470\n",
       "Hard Drive Size               430\n",
       "Graphics Coprocessor          381\n",
       "Graphics Coprocessor perf     381\n",
       "Memory Type                   341\n",
       "Processor rank                302\n",
       "Processor                     302\n",
       "Memory Size                   300\n",
       "Laptop type                   218\n",
       "Best Sellers Rank             217\n",
       "price                         149\n",
       "Operating System               54\n",
       "Screen Size                    45\n",
       "Brand                          17\n",
       "Date First Available            1\n",
       "dtype: int64"
      ]
     },
     "execution_count": 62,
     "metadata": {},
     "output_type": "execute_result"
    }
   ],
   "source": [
    "pd.Series(data.isnull().sum())[pd.Series(data.isnull().sum()) > 0].sort_values(ascending=False)"
   ]
  },
  {
   "cell_type": "markdown",
   "metadata": {},
   "source": [
    "# Number of USB 2.0 Ports"
   ]
  },
  {
   "cell_type": "code",
   "execution_count": 63,
   "metadata": {},
   "outputs": [
    {
     "data": {
      "text/plain": [
       "1.0    241\n",
       "2.0    117\n",
       "3.0     17\n",
       "4.0      2\n",
       "Name: Number of USB 2.0 Ports, dtype: int64"
      ]
     },
     "execution_count": 63,
     "metadata": {},
     "output_type": "execute_result"
    }
   ],
   "source": [
    "data['Number of USB 2.0 Ports'].value_counts()"
   ]
  },
  {
   "cell_type": "markdown",
   "metadata": {},
   "source": [
    "Có 2 giá trị vô lý là 10 và 25 (laptop ko thể có nhiều cổng USB như v) --> loại bỏ nó (vì ko rõ thực tế như thế nào)"
   ]
  },
  {
   "cell_type": "code",
   "execution_count": 64,
   "metadata": {},
   "outputs": [
    {
     "data": {
      "text/plain": [
       "1.0    241\n",
       "2.0    117\n",
       "3.0     17\n",
       "4.0      2\n",
       "Name: Number of USB 2.0 Ports, dtype: int64"
      ]
     },
     "execution_count": 64,
     "metadata": {},
     "output_type": "execute_result"
    }
   ],
   "source": [
    "impos_ind = data[(data['Number of USB 2.0 Ports']==25) | (data['Number of USB 2.0 Ports']==10)].index\n",
    "data = data.drop(impos_ind)\n",
    "data['Number of USB 2.0 Ports'].value_counts()"
   ]
  },
  {
   "cell_type": "code",
   "execution_count": 65,
   "metadata": {},
   "outputs": [],
   "source": [
    "fillna_arr = np.random.choice(np.arange(len(data['Number of USB 2.0 Ports'].value_counts().index)), \n",
    "                              size=len(data[data['Number of USB 2.0 Ports'].isna()]['Number of USB 2.0 Ports']), \n",
    "                              p=data['Number of USB 2.0 Ports'].value_counts().values/sum(data['Number of USB 2.0 Ports'].value_counts()))"
   ]
  },
  {
   "cell_type": "code",
   "execution_count": 66,
   "metadata": {},
   "outputs": [],
   "source": [
    "def fill_specific_na(x):\n",
    "    global i\n",
    "    if not (pd.isnull(x)):\n",
    "        return x\n",
    "    i+=1\n",
    "    return fillna_arr[i]"
   ]
  },
  {
   "cell_type": "code",
   "execution_count": 67,
   "metadata": {},
   "outputs": [
    {
     "data": {
      "text/plain": [
       "0.0    725\n",
       "1.0    584\n",
       "2.0    181\n",
       "3.0     21\n",
       "4.0      2\n",
       "Name: Number of USB 2.0 Ports, dtype: int64"
      ]
     },
     "execution_count": 67,
     "metadata": {},
     "output_type": "execute_result"
    }
   ],
   "source": [
    "i=-1\n",
    "data['Number of USB 2.0 Ports'] = data['Number of USB 2.0 Ports'].apply(fill_specific_na)\n",
    "data['Number of USB 2.0 Ports'].value_counts()"
   ]
  },
  {
   "cell_type": "markdown",
   "metadata": {},
   "source": [
    "Điền giá trị khiếm khuyết dựa trên tỷ lệ các giá trị."
   ]
  },
  {
   "cell_type": "markdown",
   "metadata": {},
   "source": [
    "# Number of USB 3.0 Ports"
   ]
  },
  {
   "cell_type": "code",
   "execution_count": 68,
   "metadata": {},
   "outputs": [
    {
     "data": {
      "text/plain": [
       "1.0    234\n",
       "2.0    290\n",
       "3.0    189\n",
       "4.0    118\n",
       "5.0      4\n",
       "6.0      2\n",
       "Name: Number of USB 3.0 Ports, dtype: int64"
      ]
     },
     "execution_count": 68,
     "metadata": {},
     "output_type": "execute_result"
    }
   ],
   "source": [
    "data['Number of USB 3.0 Ports'].value_counts().sort_index()"
   ]
  },
  {
   "cell_type": "code",
   "execution_count": 69,
   "metadata": {},
   "outputs": [],
   "source": [
    "fillna_arr = np.random.choice(np.arange(len(data['Number of USB 3.0 Ports'].value_counts().sort_index())), \n",
    "                              size=len(data[data['Number of USB 3.0 Ports'].isna()]['Number of USB 3.0 Ports']), \n",
    "                              p=data['Number of USB 3.0 Ports'].value_counts().sort_index().values/sum(data['Number of USB 3.0 Ports'].value_counts().values))"
   ]
  },
  {
   "cell_type": "code",
   "execution_count": 70,
   "metadata": {},
   "outputs": [
    {
     "data": {
      "text/plain": [
       "1.0    484\n",
       "2.0    414\n",
       "3.0    283\n",
       "0.0    203\n",
       "4.0    123\n",
       "5.0      4\n",
       "6.0      2\n",
       "Name: Number of USB 3.0 Ports, dtype: int64"
      ]
     },
     "execution_count": 70,
     "metadata": {},
     "output_type": "execute_result"
    }
   ],
   "source": [
    "i=-1\n",
    "data['Number of USB 3.0 Ports'] = data['Number of USB 3.0 Ports'].apply(fill_specific_na)\n",
    "data['Number of USB 3.0 Ports'].value_counts()"
   ]
  },
  {
   "cell_type": "markdown",
   "metadata": {},
   "source": [
    "# old_price and price"
   ]
  },
  {
   "cell_type": "code",
   "execution_count": 71,
   "metadata": {},
   "outputs": [
    {
     "data": {
      "text/plain": [
       "0       100.0\n",
       "1       103.0\n",
       "2       106.0\n",
       "3       109.0\n",
       "4       115.0\n",
       "        ...  \n",
       "1508      NaN\n",
       "1509      NaN\n",
       "1510      NaN\n",
       "1511      NaN\n",
       "1512      NaN\n",
       "Name: price, Length: 1513, dtype: float64"
      ]
     },
     "execution_count": 71,
     "metadata": {},
     "output_type": "execute_result"
    }
   ],
   "source": [
    "data['price']"
   ]
  },
  {
   "cell_type": "markdown",
   "metadata": {},
   "source": [
    "Vì price là giá trị dự đoán --> ko thể tự ý điền giá trị thay thế --> xóa dòng."
   ]
  },
  {
   "cell_type": "code",
   "execution_count": 72,
   "metadata": {},
   "outputs": [],
   "source": [
    "nan_ind = data[data['old_price'].isna()].index\n",
    "data.loc[nan_ind, 'old_price'] = data.loc[nan_ind, 'price']"
   ]
  },
  {
   "cell_type": "code",
   "execution_count": 73,
   "metadata": {},
   "outputs": [
    {
     "data": {
      "text/plain": [
       "141"
      ]
     },
     "execution_count": 73,
     "metadata": {},
     "output_type": "execute_result"
    }
   ],
   "source": [
    "data['old_price'].isnull().sum()"
   ]
  },
  {
   "cell_type": "markdown",
   "metadata": {},
   "source": [
    "Vì 'old_price' là giá tiền thời điểm trước đó của laptop (giá laptop có thay đổi về sau) nên giá trị NaN tức là giá tiền laptop không thay đổi, chỉ cần gán lại đúng giá trị biến 'price' tương ứng."
   ]
  },
  {
   "cell_type": "markdown",
   "metadata": {},
   "source": [
    "# Optical Drive type"
   ]
  },
  {
   "cell_type": "code",
   "execution_count": 74,
   "metadata": {},
   "outputs": [
    {
     "name": "stdout",
     "output_type": "stream",
     "text": [
      "633\n"
     ]
    },
    {
     "data": {
      "text/plain": [
       "no     782\n",
       "yes     98\n",
       "Name: Optical Drive Type, dtype: int64"
      ]
     },
     "execution_count": 74,
     "metadata": {},
     "output_type": "execute_result"
    }
   ],
   "source": [
    "print(data['Optical Drive Type'].isna().sum())\n",
    "data['Optical Drive Type'].value_counts()"
   ]
  },
  {
   "cell_type": "code",
   "execution_count": 75,
   "metadata": {},
   "outputs": [
    {
     "data": {
      "text/plain": [
       "No     782\n",
       "Yes     98\n",
       "Name: Optical Drive Type, dtype: int64"
      ]
     },
     "execution_count": 75,
     "metadata": {},
     "output_type": "execute_result"
    }
   ],
   "source": [
    "data['Optical Drive Type'] = data['Optical Drive Type'].replace(regex=['no.*', '^(?!no).*'], value=['No', 'Yes'])\n",
    "data['Optical Drive Type'].value_counts()"
   ]
  },
  {
   "cell_type": "code",
   "execution_count": 76,
   "metadata": {},
   "outputs": [],
   "source": [
    "fillna_arr = np.random.choice([0, 1], \n",
    "                              size=len(data[data['Optical Drive Type'].isna()]['Optical Drive Type']), \n",
    "                              p=data['Optical Drive Type'].value_counts().values/sum(data['Optical Drive Type'].value_counts().values))"
   ]
  },
  {
   "cell_type": "code",
   "execution_count": 77,
   "metadata": {},
   "outputs": [
    {
     "data": {
      "text/plain": [
       "No     1358\n",
       "Yes     155\n",
       "Name: Optical Drive Type, dtype: int64"
      ]
     },
     "execution_count": 77,
     "metadata": {},
     "output_type": "execute_result"
    }
   ],
   "source": [
    "i=-1\n",
    "data['Optical Drive Type'] = data['Optical Drive Type'].apply(fill_specific_na).replace(to_replace=[0,1], value=['No', 'Yes'])\n",
    "data['Optical Drive Type'].value_counts()"
   ]
  },
  {
   "cell_type": "markdown",
   "metadata": {},
   "source": [
    "# Hard Drive type"
   ]
  },
  {
   "cell_type": "code",
   "execution_count": 78,
   "metadata": {},
   "outputs": [
    {
     "data": {
      "text/plain": [
       "ssd       926\n",
       "other      77\n",
       "hdd        34\n",
       "hybrid      6\n",
       "Name: Hard Drive Type, dtype: int64"
      ]
     },
     "execution_count": 78,
     "metadata": {},
     "output_type": "execute_result"
    }
   ],
   "source": [
    "data['Hard Drive Type'] = data['Hard Drive Type'].str.lower()\n",
    "data['Hard Drive Type'].value_counts()"
   ]
  },
  {
   "cell_type": "code",
   "execution_count": 79,
   "metadata": {},
   "outputs": [
    {
     "data": {
      "text/plain": [
       "ssd       1346\n",
       "other      110\n",
       "hdd         49\n",
       "hybrid       8\n",
       "Name: Hard Drive Type, dtype: int64"
      ]
     },
     "execution_count": 79,
     "metadata": {},
     "output_type": "execute_result"
    }
   ],
   "source": [
    "fillna_arr = np.random.choice(np.arange(len(data['Hard Drive Type'].value_counts().index)), \n",
    "                              size=len(data[data['Hard Drive Type'].isna()]['Hard Drive Type']), \n",
    "                              p=data['Hard Drive Type'].value_counts().values/sum(data['Hard Drive Type'].value_counts().values))\n",
    "\n",
    "i=-1\n",
    "data['Hard Drive Type'] = data['Hard Drive Type'].apply(fill_specific_na).replace(to_replace=np.arange(len(data['Hard Drive Type'].value_counts().index)), \n",
    "                                                                                        value=data['Hard Drive Type'].value_counts().index)\n",
    "data['Hard Drive Type'].value_counts()"
   ]
  },
  {
   "cell_type": "markdown",
   "metadata": {},
   "source": [
    "Vì chênh lệch số lượng quá lớn giữa các giá trị --> điền giá trị theo tỷ lệ xuất hiện của các giá trị."
   ]
  },
  {
   "cell_type": "markdown",
   "metadata": {},
   "source": [
    "# Hard Drive size"
   ]
  },
  {
   "cell_type": "code",
   "execution_count": 80,
   "metadata": {},
   "outputs": [
    {
     "data": {
      "text/plain": [
       "430"
      ]
     },
     "execution_count": 80,
     "metadata": {},
     "output_type": "execute_result"
    }
   ],
   "source": [
    "data['Hard Drive Size'].isnull().sum()"
   ]
  },
  {
   "cell_type": "code",
   "execution_count": 81,
   "metadata": {},
   "outputs": [
    {
     "data": {
      "text/plain": [
       "512.0       299\n",
       "256.0       251\n",
       "1024.0      184\n",
       "128.0       107\n",
       "64.0         84\n",
       "32.0         77\n",
       "16.0         25\n",
       "500.0        16\n",
       "2048.0       12\n",
       "1000.0       11\n",
       "1.0           4\n",
       "640.0         2\n",
       "750.0         2\n",
       "524288.0      2\n",
       "4096.0        2\n",
       "3000.0        1\n",
       "320.0         1\n",
       "1512.0        1\n",
       "2.0           1\n",
       "262144.0      1\n",
       "Name: Hard Drive Size, dtype: int64"
      ]
     },
     "execution_count": 81,
     "metadata": {},
     "output_type": "execute_result"
    }
   ],
   "source": [
    "data['Hard Drive Size'].value_counts()"
   ]
  },
  {
   "cell_type": "markdown",
   "metadata": {},
   "source": [
    "Vì dung lượng phần cứng là những con số cố định nên khi điền vào giá trị khiếm khuyết:\n",
    "+ Không áp dụng phương pháp nội suy.\n",
    "+ Không dùng giá trị mean."
   ]
  },
  {
   "cell_type": "code",
   "execution_count": 82,
   "metadata": {},
   "outputs": [
    {
     "data": {
      "text/plain": [
       "512.0       685\n",
       "256.0       251\n",
       "1024.0      184\n",
       "64.0        111\n",
       "128.0       107\n",
       "32.0         77\n",
       "16.0         25\n",
       "500.0        16\n",
       "887.0        15\n",
       "2048.0       12\n",
       "1000.0       11\n",
       "1.0           4\n",
       "320.0         3\n",
       "524288.0      2\n",
       "4096.0        2\n",
       "640.0         2\n",
       "750.0         2\n",
       "1512.0        1\n",
       "2.0           1\n",
       "3000.0        1\n",
       "262144.0      1\n",
       "Name: Hard Drive Size, dtype: int64"
      ]
     },
     "execution_count": 82,
     "metadata": {},
     "output_type": "execute_result"
    }
   ],
   "source": [
    "data['Hard Drive Size'] = data['Hard Drive Size'].fillna(data.groupby('Hard Drive Type')['Hard Drive Size'].transform('median')).ffill()\n",
    "data['Hard Drive Size'].value_counts()"
   ]
  },
  {
   "cell_type": "markdown",
   "metadata": {},
   "source": [
    "Vì dung lượng phần cứng là số cố định nên ta dùng phương thức transform của groupby pandas. Thông qua gom nhóm ta lấy giá trị trung vị điền vào giá trị khiếm khuyết."
   ]
  },
  {
   "cell_type": "markdown",
   "metadata": {},
   "source": [
    "# Memory type"
   ]
  },
  {
   "cell_type": "code",
   "execution_count": 83,
   "metadata": {},
   "outputs": [
    {
     "data": {
      "text/plain": [
       "ddr4       733\n",
       "lpddr4     112\n",
       "lpddr4x     80\n",
       "ddr3        58\n",
       "ddr5        58\n",
       "sdram       38\n",
       "lpddr5      25\n",
       "lpddr3      21\n",
       "so-dimm     14\n",
       "ddr3l       13\n",
       "ddr         11\n",
       "ddr2         3\n",
       "dram         3\n",
       "dimm         1\n",
       "gddr6        1\n",
       "a8           1\n",
       "Name: Memory Type, dtype: int64"
      ]
     },
     "execution_count": 83,
     "metadata": {},
     "output_type": "execute_result"
    }
   ],
   "source": [
    "data['Memory Type'].value_counts()"
   ]
  },
  {
   "cell_type": "code",
   "execution_count": 84,
   "metadata": {},
   "outputs": [],
   "source": [
    "drop_ind = data[data['Memory Type'].isin(['A8', 'DIMM', 'GDDR6'])].index\n",
    "data.drop(drop_ind, inplace=True)"
   ]
  },
  {
   "cell_type": "code",
   "execution_count": 85,
   "metadata": {},
   "outputs": [
    {
     "data": {
      "text/plain": [
       "ddr4       958\n",
       "lpddr4     145\n",
       "lpddr4x     97\n",
       "ddr5        76\n",
       "ddr3        73\n",
       "sdram       44\n",
       "lpddr5      29\n",
       "lpddr3      26\n",
       "so-dimm     21\n",
       "ddr3l       18\n",
       "ddr         16\n",
       "dram         4\n",
       "ddr2         3\n",
       "dimm         1\n",
       "gddr6        1\n",
       "a8           1\n",
       "Name: Memory Type, dtype: int64"
      ]
     },
     "execution_count": 85,
     "metadata": {},
     "output_type": "execute_result"
    }
   ],
   "source": [
    "fillna_arr = np.random.choice(np.arange(len(data['Memory Type'].value_counts().index)), \n",
    "                              size=len(data[data['Memory Type'].isna()]['Memory Type']), \n",
    "                              p=data['Memory Type'].value_counts().values/np.sum(data['Memory Type'].value_counts().values))\n",
    "\n",
    "i=-1\n",
    "data['Memory Type'] = data['Memory Type'].apply(fill_specific_na).replace(to_replace=np.arange(len(data['Memory Type'].value_counts().index)), \n",
    "                                                                            value=data['Memory Type'].value_counts().index)\n",
    "data['Memory Type'].value_counts()"
   ]
  },
  {
   "cell_type": "markdown",
   "metadata": {},
   "source": [
    "# Memory Size"
   ]
  },
  {
   "cell_type": "code",
   "execution_count": 86,
   "metadata": {},
   "outputs": [
    {
     "data": {
      "text/plain": [
       "4.0      365\n",
       "16.0     355\n",
       "8.0      330\n",
       "32.0      87\n",
       "12.0      18\n",
       "64.0      17\n",
       "2.0       13\n",
       "1.0        9\n",
       "6.0        6\n",
       "20.0       6\n",
       "128.0      4\n",
       "24.0       1\n",
       "256.0      1\n",
       "5.0        1\n",
       "Name: Memory Size, dtype: int64"
      ]
     },
     "execution_count": 86,
     "metadata": {},
     "output_type": "execute_result"
    }
   ],
   "source": [
    "data['Memory Size'].value_counts()"
   ]
  },
  {
   "cell_type": "code",
   "execution_count": 87,
   "metadata": {},
   "outputs": [
    {
     "data": {
      "text/plain": [
       "0        4.0\n",
       "1       32.0\n",
       "2        4.0\n",
       "3        4.0\n",
       "4        4.0\n",
       "        ... \n",
       "1508    16.0\n",
       "1509     4.0\n",
       "1510     8.0\n",
       "1511     6.0\n",
       "1512    16.0\n",
       "Name: Memory Size, Length: 1513, dtype: float64"
      ]
     },
     "execution_count": 87,
     "metadata": {},
     "output_type": "execute_result"
    }
   ],
   "source": [
    "data['Memory Size'] = data['Memory Size'].fillna(data.groupby('Memory Type')['Memory Size'].transform('median'))\n",
    "data['Memory Size']"
   ]
  },
  {
   "cell_type": "markdown",
   "metadata": {},
   "source": [
    "# Memory Speed"
   ]
  },
  {
   "cell_type": "code",
   "execution_count": 88,
   "metadata": {},
   "outputs": [
    {
     "data": {
      "text/plain": [
       "0"
      ]
     },
     "execution_count": 88,
     "metadata": {},
     "output_type": "execute_result"
    }
   ],
   "source": [
    "data['Memory Speed'] = data['Memory Speed'].fillna(data.groupby(['Memory Size', 'Memory Type'])['Memory Speed'].transform('mean')).ffill()\n",
    "data['Memory Speed'].isnull().sum()"
   ]
  },
  {
   "cell_type": "markdown",
   "metadata": {},
   "source": [
    "Dựa theo dung lượng và loại bộ nhớ mà điền giá trị khiếm khuyết bằng trị giá trung vị."
   ]
  },
  {
   "cell_type": "markdown",
   "metadata": {},
   "source": [
    "# Customer reviews"
   ]
  },
  {
   "cell_type": "code",
   "execution_count": 89,
   "metadata": {},
   "outputs": [
    {
     "data": {
      "text/plain": [
       "0       4.2\n",
       "1       4.5\n",
       "2       4.2\n",
       "3       4.4\n",
       "4       4.5\n",
       "       ... \n",
       "1508    3.2\n",
       "1509    3.6\n",
       "1510    4.0\n",
       "1511    4.4\n",
       "1512    2.5\n",
       "Name: Customer Reviews, Length: 1513, dtype: float64"
      ]
     },
     "execution_count": 89,
     "metadata": {},
     "output_type": "execute_result"
    }
   ],
   "source": [
    "data['Customer Reviews'] = data['Customer Reviews'].interpolate(method='linear').round(1)\n",
    "data['Customer Reviews']"
   ]
  },
  {
   "cell_type": "markdown",
   "metadata": {},
   "source": [
    "Sử dụng phương pháp nội suy để suy đoán các giá trị khiếm khuyết."
   ]
  },
  {
   "cell_type": "markdown",
   "metadata": {},
   "source": [
    "# Graphics Coprocessor"
   ]
  },
  {
   "cell_type": "code",
   "execution_count": 90,
   "metadata": {},
   "outputs": [],
   "source": [
    "drop_ind = data[data['Graphics Coprocessor']=='1'].index\n",
    "data.drop(drop_ind, inplace=True)"
   ]
  },
  {
   "cell_type": "code",
   "execution_count": 91,
   "metadata": {},
   "outputs": [
    {
     "data": {
      "text/plain": [
       "0                     intel uhd 600\n",
       "1                     amd radeon r2\n",
       "2                      intel hd 500\n",
       "3                         intel hd \n",
       "4                               NaN\n",
       "                   ...             \n",
       "1508                            NaN\n",
       "1509                  intel uhd 620\n",
       "1510                            NaN\n",
       "1511                            NaN\n",
       "1512    nvidia geforce rtx 3070 ti \n",
       "Name: Graphics Coprocessor, Length: 1513, dtype: object"
      ]
     },
     "execution_count": 91,
     "metadata": {},
     "output_type": "execute_result"
    }
   ],
   "source": [
    "data['Graphics Coprocessor']"
   ]
  },
  {
   "cell_type": "code",
   "execution_count": 92,
   "metadata": {},
   "outputs": [
    {
     "data": {
      "text/html": [
       "<div>\n",
       "<style scoped>\n",
       "    .dataframe tbody tr th:only-of-type {\n",
       "        vertical-align: middle;\n",
       "    }\n",
       "\n",
       "    .dataframe tbody tr th {\n",
       "        vertical-align: top;\n",
       "    }\n",
       "\n",
       "    .dataframe thead th {\n",
       "        text-align: right;\n",
       "    }\n",
       "</style>\n",
       "<table border=\"1\" class=\"dataframe\">\n",
       "  <thead>\n",
       "    <tr style=\"text-align: right;\">\n",
       "      <th></th>\n",
       "      <th>Graphics Coprocessor</th>\n",
       "    </tr>\n",
       "  </thead>\n",
       "  <tbody>\n",
       "    <tr>\n",
       "      <th>0</th>\n",
       "      <td>42</td>\n",
       "    </tr>\n",
       "    <tr>\n",
       "      <th>1</th>\n",
       "      <td>5</td>\n",
       "    </tr>\n",
       "    <tr>\n",
       "      <th>2</th>\n",
       "      <td>24</td>\n",
       "    </tr>\n",
       "    <tr>\n",
       "      <th>3</th>\n",
       "      <td>22</td>\n",
       "    </tr>\n",
       "    <tr>\n",
       "      <th>4</th>\n",
       "      <td>NaN</td>\n",
       "    </tr>\n",
       "    <tr>\n",
       "      <th>...</th>\n",
       "      <td>...</td>\n",
       "    </tr>\n",
       "    <tr>\n",
       "      <th>1508</th>\n",
       "      <td>NaN</td>\n",
       "    </tr>\n",
       "    <tr>\n",
       "      <th>1509</th>\n",
       "      <td>45</td>\n",
       "    </tr>\n",
       "    <tr>\n",
       "      <th>1510</th>\n",
       "      <td>NaN</td>\n",
       "    </tr>\n",
       "    <tr>\n",
       "      <th>1511</th>\n",
       "      <td>NaN</td>\n",
       "    </tr>\n",
       "    <tr>\n",
       "      <th>1512</th>\n",
       "      <td>78</td>\n",
       "    </tr>\n",
       "  </tbody>\n",
       "</table>\n",
       "<p>1513 rows × 1 columns</p>\n",
       "</div>"
      ],
      "text/plain": [
       "     Graphics Coprocessor\n",
       "0                      42\n",
       "1                       5\n",
       "2                      24\n",
       "3                      22\n",
       "4                     NaN\n",
       "...                   ...\n",
       "1508                  NaN\n",
       "1509                   45\n",
       "1510                  NaN\n",
       "1511                  NaN\n",
       "1512                   78\n",
       "\n",
       "[1513 rows x 1 columns]"
      ]
     },
     "execution_count": 92,
     "metadata": {},
     "output_type": "execute_result"
    }
   ],
   "source": [
    "encode = LabelEncoder()\n",
    "temp = data[['Graphics Coprocessor']].astype(\"str\").apply(encode.fit_transform)\n",
    "final = temp.where(~data.isna(), data)\n",
    "final"
   ]
  },
  {
   "cell_type": "code",
   "execution_count": 93,
   "metadata": {},
   "outputs": [
    {
     "data": {
      "text/html": [
       "<div>\n",
       "<style scoped>\n",
       "    .dataframe tbody tr th:only-of-type {\n",
       "        vertical-align: middle;\n",
       "    }\n",
       "\n",
       "    .dataframe tbody tr th {\n",
       "        vertical-align: top;\n",
       "    }\n",
       "\n",
       "    .dataframe thead th {\n",
       "        text-align: right;\n",
       "    }\n",
       "</style>\n",
       "<table border=\"1\" class=\"dataframe\">\n",
       "  <thead>\n",
       "    <tr style=\"text-align: right;\">\n",
       "      <th></th>\n",
       "      <th>Graphics Coprocessor</th>\n",
       "      <th>new</th>\n",
       "      <th>final</th>\n",
       "    </tr>\n",
       "  </thead>\n",
       "  <tbody>\n",
       "    <tr>\n",
       "      <th>0</th>\n",
       "      <td>42</td>\n",
       "      <td>42.000000</td>\n",
       "      <td>intel uhd 600</td>\n",
       "    </tr>\n",
       "    <tr>\n",
       "      <th>1</th>\n",
       "      <td>5</td>\n",
       "      <td>5.000000</td>\n",
       "      <td>amd radeon r2</td>\n",
       "    </tr>\n",
       "    <tr>\n",
       "      <th>2</th>\n",
       "      <td>24</td>\n",
       "      <td>24.000000</td>\n",
       "      <td>intel hd 500</td>\n",
       "    </tr>\n",
       "    <tr>\n",
       "      <th>3</th>\n",
       "      <td>22</td>\n",
       "      <td>22.000000</td>\n",
       "      <td>intel hd</td>\n",
       "    </tr>\n",
       "    <tr>\n",
       "      <th>4</th>\n",
       "      <td>NaN</td>\n",
       "      <td>43.010601</td>\n",
       "      <td>intel uhd 605</td>\n",
       "    </tr>\n",
       "    <tr>\n",
       "      <th>...</th>\n",
       "      <td>...</td>\n",
       "      <td>...</td>\n",
       "      <td>...</td>\n",
       "    </tr>\n",
       "    <tr>\n",
       "      <th>1508</th>\n",
       "      <td>NaN</td>\n",
       "      <td>43.010601</td>\n",
       "      <td>intel uhd 605</td>\n",
       "    </tr>\n",
       "    <tr>\n",
       "      <th>1509</th>\n",
       "      <td>45</td>\n",
       "      <td>45.000000</td>\n",
       "      <td>intel uhd 620</td>\n",
       "    </tr>\n",
       "    <tr>\n",
       "      <th>1510</th>\n",
       "      <td>NaN</td>\n",
       "      <td>43.010601</td>\n",
       "      <td>intel uhd 605</td>\n",
       "    </tr>\n",
       "    <tr>\n",
       "      <th>1511</th>\n",
       "      <td>NaN</td>\n",
       "      <td>43.010601</td>\n",
       "      <td>intel uhd 605</td>\n",
       "    </tr>\n",
       "    <tr>\n",
       "      <th>1512</th>\n",
       "      <td>78</td>\n",
       "      <td>78.000000</td>\n",
       "      <td>nvidia geforce rtx 3070 ti</td>\n",
       "    </tr>\n",
       "  </tbody>\n",
       "</table>\n",
       "<p>1513 rows × 3 columns</p>\n",
       "</div>"
      ],
      "text/plain": [
       "     Graphics Coprocessor        new                        final\n",
       "0                      42  42.000000                intel uhd 600\n",
       "1                       5   5.000000                amd radeon r2\n",
       "2                      24  24.000000                 intel hd 500\n",
       "3                      22  22.000000                    intel hd \n",
       "4                     NaN  43.010601                intel uhd 605\n",
       "...                   ...        ...                          ...\n",
       "1508                  NaN  43.010601                intel uhd 605\n",
       "1509                   45  45.000000                intel uhd 620\n",
       "1510                  NaN  43.010601                intel uhd 605\n",
       "1511                  NaN  43.010601                intel uhd 605\n",
       "1512                   78  78.000000  nvidia geforce rtx 3070 ti \n",
       "\n",
       "[1513 rows x 3 columns]"
      ]
     },
     "execution_count": 93,
     "metadata": {},
     "output_type": "execute_result"
    }
   ],
   "source": [
    "imputer = KNNImputer(n_neighbors=10)\n",
    "final['new'] = imputer.fit_transform(final)\n",
    "final['final'] = encode.inverse_transform(final['new'].map(int))\n",
    "final"
   ]
  },
  {
   "cell_type": "code",
   "execution_count": 94,
   "metadata": {},
   "outputs": [
    {
     "data": {
      "text/plain": [
       "0"
      ]
     },
     "execution_count": 94,
     "metadata": {},
     "output_type": "execute_result"
    }
   ],
   "source": [
    "data['Graphics Coprocessor'] = final['final']\n",
    "data['Graphics Coprocessor'].isnull().sum()"
   ]
  },
  {
   "cell_type": "markdown",
   "metadata": {},
   "source": [
    "# Graphics Coprocessor perf"
   ]
  },
  {
   "cell_type": "code",
   "execution_count": 95,
   "metadata": {},
   "outputs": [
    {
     "data": {
      "text/plain": [
       "381"
      ]
     },
     "execution_count": 95,
     "metadata": {},
     "output_type": "execute_result"
    }
   ],
   "source": [
    "data['Graphics Coprocessor perf'].isna().sum()"
   ]
  },
  {
   "cell_type": "code",
   "execution_count": 96,
   "metadata": {},
   "outputs": [
    {
     "data": {
      "text/plain": [
       "0"
      ]
     },
     "execution_count": 96,
     "metadata": {},
     "output_type": "execute_result"
    }
   ],
   "source": [
    "data['Graphics Coprocessor perf'] = data.groupby('Graphics Coprocessor')['Graphics Coprocessor perf'].apply(lambda x: x.interpolate()).bfill()\n",
    "data['Graphics Coprocessor perf'].isnull().sum()"
   ]
  },
  {
   "cell_type": "markdown",
   "metadata": {},
   "source": [
    "# Processor"
   ]
  },
  {
   "cell_type": "code",
   "execution_count": 97,
   "metadata": {},
   "outputs": [
    {
     "data": {
      "text/plain": [
       "intel core i5 1135g7    84\n",
       "intel celeron n4020     66\n",
       "intel core i7 1165g7    54\n",
       "intel core i3 1115g4    48\n",
       "intel core i7 11800h    45\n",
       "                        ..\n",
       "intel core i3 10100t     1\n",
       "intel pentium j4205      1\n",
       "intel celeron n3150      1\n",
       "intel core i3 10110y     1\n",
       "intel core i5 6500t      1\n",
       "Name: Processor, Length: 178, dtype: int64"
      ]
     },
     "execution_count": 97,
     "metadata": {},
     "output_type": "execute_result"
    }
   ],
   "source": [
    "data['Processor'].value_counts()"
   ]
  },
  {
   "cell_type": "code",
   "execution_count": 98,
   "metadata": {},
   "outputs": [
    {
     "data": {
      "text/html": [
       "<div>\n",
       "<style scoped>\n",
       "    .dataframe tbody tr th:only-of-type {\n",
       "        vertical-align: middle;\n",
       "    }\n",
       "\n",
       "    .dataframe tbody tr th {\n",
       "        vertical-align: top;\n",
       "    }\n",
       "\n",
       "    .dataframe thead th {\n",
       "        text-align: right;\n",
       "    }\n",
       "</style>\n",
       "<table border=\"1\" class=\"dataframe\">\n",
       "  <thead>\n",
       "    <tr style=\"text-align: right;\">\n",
       "      <th></th>\n",
       "      <th>Processor</th>\n",
       "    </tr>\n",
       "  </thead>\n",
       "  <tbody>\n",
       "    <tr>\n",
       "      <th>0</th>\n",
       "      <td>63</td>\n",
       "    </tr>\n",
       "    <tr>\n",
       "      <th>1</th>\n",
       "      <td>NaN</td>\n",
       "    </tr>\n",
       "    <tr>\n",
       "      <th>2</th>\n",
       "      <td>60</td>\n",
       "    </tr>\n",
       "    <tr>\n",
       "      <th>3</th>\n",
       "      <td>NaN</td>\n",
       "    </tr>\n",
       "    <tr>\n",
       "      <th>4</th>\n",
       "      <td>63</td>\n",
       "    </tr>\n",
       "    <tr>\n",
       "      <th>...</th>\n",
       "      <td>...</td>\n",
       "    </tr>\n",
       "    <tr>\n",
       "      <th>1508</th>\n",
       "      <td>153</td>\n",
       "    </tr>\n",
       "    <tr>\n",
       "      <th>1509</th>\n",
       "      <td>115</td>\n",
       "    </tr>\n",
       "    <tr>\n",
       "      <th>1510</th>\n",
       "      <td>111</td>\n",
       "    </tr>\n",
       "    <tr>\n",
       "      <th>1511</th>\n",
       "      <td>NaN</td>\n",
       "    </tr>\n",
       "    <tr>\n",
       "      <th>1512</th>\n",
       "      <td>143</td>\n",
       "    </tr>\n",
       "  </tbody>\n",
       "</table>\n",
       "<p>1513 rows × 1 columns</p>\n",
       "</div>"
      ],
      "text/plain": [
       "     Processor\n",
       "0           63\n",
       "1          NaN\n",
       "2           60\n",
       "3          NaN\n",
       "4           63\n",
       "...        ...\n",
       "1508       153\n",
       "1509       115\n",
       "1510       111\n",
       "1511       NaN\n",
       "1512       143\n",
       "\n",
       "[1513 rows x 1 columns]"
      ]
     },
     "execution_count": 98,
     "metadata": {},
     "output_type": "execute_result"
    }
   ],
   "source": [
    "encode = LabelEncoder()\n",
    "temp = data[['Processor']].astype(\"str\").apply(encode.fit_transform)\n",
    "final = temp.where(~data.isna(), data)\n",
    "final"
   ]
  },
  {
   "cell_type": "code",
   "execution_count": 99,
   "metadata": {},
   "outputs": [
    {
     "data": {
      "text/html": [
       "<div>\n",
       "<style scoped>\n",
       "    .dataframe tbody tr th:only-of-type {\n",
       "        vertical-align: middle;\n",
       "    }\n",
       "\n",
       "    .dataframe tbody tr th {\n",
       "        vertical-align: top;\n",
       "    }\n",
       "\n",
       "    .dataframe thead th {\n",
       "        text-align: right;\n",
       "    }\n",
       "</style>\n",
       "<table border=\"1\" class=\"dataframe\">\n",
       "  <thead>\n",
       "    <tr style=\"text-align: right;\">\n",
       "      <th></th>\n",
       "      <th>Processor</th>\n",
       "      <th>new</th>\n",
       "      <th>final</th>\n",
       "    </tr>\n",
       "  </thead>\n",
       "  <tbody>\n",
       "    <tr>\n",
       "      <th>0</th>\n",
       "      <td>63</td>\n",
       "      <td>63.000000</td>\n",
       "      <td>intel celeron n4020</td>\n",
       "    </tr>\n",
       "    <tr>\n",
       "      <th>1</th>\n",
       "      <td>NaN</td>\n",
       "      <td>96.536746</td>\n",
       "      <td>intel core i5 1140g7</td>\n",
       "    </tr>\n",
       "    <tr>\n",
       "      <th>2</th>\n",
       "      <td>60</td>\n",
       "      <td>60.000000</td>\n",
       "      <td>intel celeron n3350</td>\n",
       "    </tr>\n",
       "    <tr>\n",
       "      <th>3</th>\n",
       "      <td>NaN</td>\n",
       "      <td>96.536746</td>\n",
       "      <td>intel core i5 1140g7</td>\n",
       "    </tr>\n",
       "    <tr>\n",
       "      <th>4</th>\n",
       "      <td>63</td>\n",
       "      <td>63.000000</td>\n",
       "      <td>intel celeron n4020</td>\n",
       "    </tr>\n",
       "    <tr>\n",
       "      <th>...</th>\n",
       "      <td>...</td>\n",
       "      <td>...</td>\n",
       "      <td>...</td>\n",
       "    </tr>\n",
       "    <tr>\n",
       "      <th>1508</th>\n",
       "      <td>153</td>\n",
       "      <td>153.000000</td>\n",
       "      <td>intel core i7 8550u</td>\n",
       "    </tr>\n",
       "    <tr>\n",
       "      <th>1509</th>\n",
       "      <td>115</td>\n",
       "      <td>115.000000</td>\n",
       "      <td>intel core i5 8250u</td>\n",
       "    </tr>\n",
       "    <tr>\n",
       "      <th>1510</th>\n",
       "      <td>111</td>\n",
       "      <td>111.000000</td>\n",
       "      <td>intel core i5 6500t</td>\n",
       "    </tr>\n",
       "    <tr>\n",
       "      <th>1511</th>\n",
       "      <td>NaN</td>\n",
       "      <td>96.536746</td>\n",
       "      <td>intel core i5 1140g7</td>\n",
       "    </tr>\n",
       "    <tr>\n",
       "      <th>1512</th>\n",
       "      <td>143</td>\n",
       "      <td>143.000000</td>\n",
       "      <td>intel core i7 12700h</td>\n",
       "    </tr>\n",
       "  </tbody>\n",
       "</table>\n",
       "<p>1513 rows × 3 columns</p>\n",
       "</div>"
      ],
      "text/plain": [
       "     Processor         new                 final\n",
       "0           63   63.000000   intel celeron n4020\n",
       "1          NaN   96.536746  intel core i5 1140g7\n",
       "2           60   60.000000   intel celeron n3350\n",
       "3          NaN   96.536746  intel core i5 1140g7\n",
       "4           63   63.000000   intel celeron n4020\n",
       "...        ...         ...                   ...\n",
       "1508       153  153.000000   intel core i7 8550u\n",
       "1509       115  115.000000   intel core i5 8250u\n",
       "1510       111  111.000000   intel core i5 6500t\n",
       "1511       NaN   96.536746  intel core i5 1140g7\n",
       "1512       143  143.000000  intel core i7 12700h\n",
       "\n",
       "[1513 rows x 3 columns]"
      ]
     },
     "execution_count": 99,
     "metadata": {},
     "output_type": "execute_result"
    }
   ],
   "source": [
    "imputer = KNNImputer(n_neighbors=10)\n",
    "final['new'] = imputer.fit_transform(final)\n",
    "final['final'] = encode.inverse_transform(final['new'].map(int))\n",
    "final"
   ]
  },
  {
   "cell_type": "code",
   "execution_count": 100,
   "metadata": {},
   "outputs": [
    {
     "data": {
      "text/plain": [
       "0"
      ]
     },
     "execution_count": 100,
     "metadata": {},
     "output_type": "execute_result"
    }
   ],
   "source": [
    "data['Processor'] = final['final']\n",
    "data['Processor'].isnull().sum()"
   ]
  },
  {
   "cell_type": "markdown",
   "metadata": {},
   "source": [
    "# Processor rank"
   ]
  },
  {
   "cell_type": "code",
   "execution_count": 101,
   "metadata": {},
   "outputs": [
    {
     "data": {
      "text/plain": [
       "748.0     84\n",
       "2521.0    66\n",
       "719.0     54\n",
       "1131.0    48\n",
       "304.0     45\n",
       "          ..\n",
       "970.0      1\n",
       "2012.0     1\n",
       "2780.0     1\n",
       "1691.0     1\n",
       "1354.0     1\n",
       "Name: Processor rank, Length: 178, dtype: int64"
      ]
     },
     "execution_count": 101,
     "metadata": {},
     "output_type": "execute_result"
    }
   ],
   "source": [
    "data['Processor rank'].value_counts()"
   ]
  },
  {
   "cell_type": "code",
   "execution_count": 102,
   "metadata": {},
   "outputs": [
    {
     "data": {
      "text/plain": [
       "0"
      ]
     },
     "execution_count": 102,
     "metadata": {},
     "output_type": "execute_result"
    }
   ],
   "source": [
    "data['Processor rank'] = data.groupby('Processor')['Processor rank'].apply(lambda x: x.interpolate()).bfill()\n",
    "data['Processor rank'].isnull().sum()"
   ]
  },
  {
   "cell_type": "markdown",
   "metadata": {},
   "source": [
    "# Best Seller rank"
   ]
  },
  {
   "cell_type": "code",
   "execution_count": 103,
   "metadata": {},
   "outputs": [
    {
     "data": {
      "text/plain": [
       "217"
      ]
     },
     "execution_count": 103,
     "metadata": {},
     "output_type": "execute_result"
    }
   ],
   "source": [
    "data['Best Sellers Rank'].isna().sum()"
   ]
  },
  {
   "cell_type": "markdown",
   "metadata": {},
   "source": [
    "# Laptop type"
   ]
  },
  {
   "cell_type": "code",
   "execution_count": 104,
   "metadata": {},
   "outputs": [
    {
     "data": {
      "text/plain": [
       "traditional    1160\n",
       "2 in 1          135\n",
       "Name: Laptop type, dtype: int64"
      ]
     },
     "execution_count": 104,
     "metadata": {},
     "output_type": "execute_result"
    }
   ],
   "source": [
    "data['Laptop type'].value_counts()"
   ]
  },
  {
   "cell_type": "code",
   "execution_count": 105,
   "metadata": {},
   "outputs": [],
   "source": [
    "fillna_arr = np.random.choice([0, 1], \n",
    "                              size=len(data[data['Laptop type'].isna()]['Laptop type']), \n",
    "                              p=data['Laptop type'].value_counts().values/sum(data['Laptop type'].value_counts().values))"
   ]
  },
  {
   "cell_type": "code",
   "execution_count": 106,
   "metadata": {},
   "outputs": [
    {
     "data": {
      "text/plain": [
       "traditional    1347\n",
       "2 in 1          166\n",
       "Name: Laptop type, dtype: int64"
      ]
     },
     "execution_count": 106,
     "metadata": {},
     "output_type": "execute_result"
    }
   ],
   "source": [
    "i=-1\n",
    "data['Laptop type'] = data['Laptop type'].apply(fill_specific_na).replace(to_replace=[0,1], value=['traditional', '2 in 1'])\n",
    "data['Laptop type'].value_counts()"
   ]
  },
  {
   "cell_type": "markdown",
   "metadata": {},
   "source": [
    "# Operating System"
   ]
  },
  {
   "cell_type": "code",
   "execution_count": 107,
   "metadata": {},
   "outputs": [
    {
     "data": {
      "text/plain": [
       "windows      1168\n",
       "chrome os     291\n",
       "Name: Operating System, dtype: int64"
      ]
     },
     "execution_count": 107,
     "metadata": {},
     "output_type": "execute_result"
    }
   ],
   "source": [
    "data['Operating System'].value_counts()"
   ]
  },
  {
   "cell_type": "code",
   "execution_count": 108,
   "metadata": {},
   "outputs": [
    {
     "data": {
      "text/plain": [
       "windows        1168\n",
       "chrome os       291\n",
       "uninstalled      54\n",
       "Name: Operating System, dtype: int64"
      ]
     },
     "execution_count": 108,
     "metadata": {},
     "output_type": "execute_result"
    }
   ],
   "source": [
    "data['Operating System'] = data['Operating System'].fillna('uninstalled')\n",
    "data['Operating System'].value_counts()"
   ]
  },
  {
   "cell_type": "markdown",
   "metadata": {},
   "source": [
    "# Screen size"
   ]
  },
  {
   "cell_type": "code",
   "execution_count": 109,
   "metadata": {},
   "outputs": [
    {
     "data": {
      "text/plain": [
       "14.0    492\n",
       "15.6    472\n",
       "11.6    135\n",
       "13.3    101\n",
       "17.3     96\n",
       "16.0     59\n",
       "17.0     21\n",
       "15.0     21\n",
       "13.5     16\n",
       "13.0     10\n",
       "1.0       6\n",
       "11.0      6\n",
       "13.4      6\n",
       "12.5      5\n",
       "10.1      4\n",
       "12.0      4\n",
       "12.3      3\n",
       "14.1      3\n",
       "10.5      2\n",
       "12.2      2\n",
       "14.5      2\n",
       "4.7       2\n",
       "Name: Screen Size, dtype: int64"
      ]
     },
     "execution_count": 109,
     "metadata": {},
     "output_type": "execute_result"
    }
   ],
   "source": [
    "pd.Series(data['Screen Size'].value_counts())[pd.Series(data['Screen Size'].value_counts()) > 0]"
   ]
  },
  {
   "cell_type": "code",
   "execution_count": 110,
   "metadata": {},
   "outputs": [],
   "source": [
    "nan_ind = data[data['Screen Size'] < 10].index\n",
    "data.drop(nan_ind, inplace=True)"
   ]
  },
  {
   "cell_type": "code",
   "execution_count": 111,
   "metadata": {},
   "outputs": [
    {
     "data": {
      "text/plain": [
       "0       13.3\n",
       "1       14.0\n",
       "2       14.0\n",
       "3       13.3\n",
       "4       14.0\n",
       "        ... \n",
       "1508    14.0\n",
       "1509    14.0\n",
       "1510    14.0\n",
       "1511    14.0\n",
       "1512    14.0\n",
       "Name: Screen Size, Length: 1505, dtype: float64"
      ]
     },
     "execution_count": 111,
     "metadata": {},
     "output_type": "execute_result"
    }
   ],
   "source": [
    "data['Screen Size'] = data.groupby('Brand')['Screen Size'].transform('median').ffill()\n",
    "data['Screen Size']"
   ]
  },
  {
   "cell_type": "markdown",
   "metadata": {},
   "source": [
    "# Brand"
   ]
  },
  {
   "cell_type": "code",
   "execution_count": 112,
   "metadata": {},
   "outputs": [
    {
     "data": {
      "text/plain": [
       "16"
      ]
     },
     "execution_count": 112,
     "metadata": {},
     "output_type": "execute_result"
    }
   ],
   "source": [
    "data['Brand'].isnull().sum()"
   ]
  },
  {
   "cell_type": "markdown",
   "metadata": {},
   "source": [
    "# Delete nan rows"
   ]
  },
  {
   "cell_type": "code",
   "execution_count": 113,
   "metadata": {},
   "outputs": [
    {
     "data": {
      "text/plain": [
       "1"
      ]
     },
     "execution_count": 113,
     "metadata": {},
     "output_type": "execute_result"
    }
   ],
   "source": [
    "data['Date First Available'].isnull().sum()"
   ]
  },
  {
   "cell_type": "code",
   "execution_count": 114,
   "metadata": {},
   "outputs": [],
   "source": [
    "data.dropna(subset=['price', 'Best Sellers Rank', 'Brand', 'Date First Available'], axis=0, inplace=True)"
   ]
  },
  {
   "cell_type": "markdown",
   "metadata": {},
   "source": [
    "# Final check NaN"
   ]
  },
  {
   "cell_type": "code",
   "execution_count": 115,
   "metadata": {},
   "outputs": [
    {
     "data": {
      "text/plain": [
       "name                         0\n",
       "Brand                        0\n",
       "Best Sellers Rank            0\n",
       "weight                       0\n",
       "Laptop type                  0\n",
       "Laptop purpose               0\n",
       "Screen Size                  0\n",
       "Hard Drive Size              0\n",
       "Hard Drive Type              0\n",
       "Memory Speed                 0\n",
       "Memory Size                  0\n",
       "Memory Type                  0\n",
       "Processor                    0\n",
       "Processor rank               0\n",
       "Graphics Coprocessor         0\n",
       "Graphics Coprocessor perf    0\n",
       "Optical Drive Type           0\n",
       "Operating System             0\n",
       "Number of USB 3.0 Ports      0\n",
       "Number of USB 2.0 Ports      0\n",
       "Date First Available         0\n",
       "Customer Reviews             0\n",
       "old_price                    0\n",
       "price                        0\n",
       "dtype: int64"
      ]
     },
     "execution_count": 115,
     "metadata": {},
     "output_type": "execute_result"
    }
   ],
   "source": [
    "data.isnull().sum()"
   ]
  },
  {
   "cell_type": "code",
   "execution_count": 116,
   "metadata": {},
   "outputs": [],
   "source": [
    "data = data.rename({'Processor': 'CPU', 'Processor rank': 'CPU rank', \n",
    "                    'Graphics Coprocessor': 'GPU', 'Graphics Coprocessor perf': 'GPU performance',\n",
    "                    'Memory Type': 'RAM type', 'Memory Size': 'RAM size', 'Memory Speed': 'RAM speed'}, axis=1)"
   ]
  },
  {
   "cell_type": "code",
   "execution_count": 117,
   "metadata": {},
   "outputs": [
    {
     "data": {
      "text/plain": [
       "traditional    1023\n",
       "2 in 1          122\n",
       "Name: Laptop type, dtype: int64"
      ]
     },
     "execution_count": 117,
     "metadata": {},
     "output_type": "execute_result"
    }
   ],
   "source": [
    "data['Laptop type'].value_counts()"
   ]
  },
  {
   "cell_type": "markdown",
   "metadata": {},
   "source": [
    "# Export tidy data"
   ]
  },
  {
   "cell_type": "code",
   "execution_count": 118,
   "metadata": {},
   "outputs": [],
   "source": [
    "data.to_csv('tidy_data.csv', index=False)"
   ]
  },
  {
   "cell_type": "code",
   "execution_count": null,
   "metadata": {},
   "outputs": [],
   "source": []
  }
 ],
 "metadata": {
  "kernelspec": {
   "display_name": "Python 3.10.6 ('ds105_project')",
   "language": "python",
   "name": "python3"
  },
  "language_info": {
   "codemirror_mode": {
    "name": "ipython",
    "version": 3
   },
   "file_extension": ".py",
   "mimetype": "text/x-python",
   "name": "python",
   "nbconvert_exporter": "python",
   "pygments_lexer": "ipython3",
   "version": "3.10.6"
  },
  "orig_nbformat": 4,
  "vscode": {
   "interpreter": {
    "hash": "91afdd06f42c92c0f12f43015620c2d978ccab671f373d131a66cf4ff58b7a46"
   }
  }
 },
 "nbformat": 4,
 "nbformat_minor": 2
}
