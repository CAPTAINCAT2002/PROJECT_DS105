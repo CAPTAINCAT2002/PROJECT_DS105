{
  "cells": [
    {
      "cell_type": "markdown",
      "metadata": {
        "id": "R0DB4Cxy0dVb"
      },
      "source": [
        "# **Settings**"
      ]
    },
    {
      "cell_type": "code",
      "execution_count": 1,
      "metadata": {
        "colab": {
          "base_uri": "https://localhost:8080/"
        },
        "id": "Dctw0cOVcSMs",
        "outputId": "99c1869a-3f6a-44a9-c474-9ae01d16a8f6"
      },
      "outputs": [
        {
          "name": "stdout",
          "output_type": "stream",
          "text": [
            "\u001b[K     |████████████████████████████████| 10.3 MB 17.3 MB/s \n",
            "\u001b[K     |████████████████████████████████| 78 kB 3.6 MB/s \n",
            "\u001b[K     |████████████████████████████████| 182 kB 55.9 MB/s \n",
            "\u001b[K     |████████████████████████████████| 164 kB 24.2 MB/s \n",
            "\u001b[K     |████████████████████████████████| 4.7 MB 53.1 MB/s \n",
            "\u001b[K     |████████████████████████████████| 237 kB 44.2 MB/s \n",
            "\u001b[K     |████████████████████████████████| 62 kB 331 kB/s \n",
            "\u001b[K     |████████████████████████████████| 51 kB 2.6 MB/s \n",
            "\u001b[?25h  Building wheel for validators (setup.py) ... \u001b[?25l\u001b[?25hdone\n"
          ]
        }
      ],
      "source": [
        "! pip install streamlit -q"
      ]
    },
    {
      "cell_type": "code",
      "execution_count": 2,
      "metadata": {
        "colab": {
          "base_uri": "https://localhost:8080/"
        },
        "id": "JC8KB0wCc1pi",
        "outputId": "b27de9a6-67b6-4394-b4d0-454a5ac4e791"
      },
      "outputs": [
        {
          "name": "stdout",
          "output_type": "stream",
          "text": [
            "Looking in indexes: https://pypi.org/simple, https://us-python.pkg.dev/colab-wheels/public/simple/\n",
            "Requirement already satisfied: matplotlib in /usr/local/lib/python3.8/dist-packages (3.2.2)\n",
            "Requirement already satisfied: pyparsing!=2.0.4,!=2.1.2,!=2.1.6,>=2.0.1 in /usr/local/lib/python3.8/dist-packages (from matplotlib) (3.0.9)\n",
            "Requirement already satisfied: numpy>=1.11 in /usr/local/lib/python3.8/dist-packages (from matplotlib) (1.21.6)\n",
            "Requirement already satisfied: python-dateutil>=2.1 in /usr/local/lib/python3.8/dist-packages (from matplotlib) (2.8.2)\n",
            "Requirement already satisfied: kiwisolver>=1.0.1 in /usr/local/lib/python3.8/dist-packages (from matplotlib) (1.4.4)\n",
            "Requirement already satisfied: cycler>=0.10 in /usr/local/lib/python3.8/dist-packages (from matplotlib) (0.11.0)\n",
            "Requirement already satisfied: six>=1.5 in /usr/local/lib/python3.8/dist-packages (from python-dateutil>=2.1->matplotlib) (1.15.0)\n",
            "Looking in indexes: https://pypi.org/simple, https://us-python.pkg.dev/colab-wheels/public/simple/\n",
            "Requirement already satisfied: numpy in /usr/local/lib/python3.8/dist-packages (1.21.6)\n",
            "Looking in indexes: https://pypi.org/simple, https://us-python.pkg.dev/colab-wheels/public/simple/\n",
            "Requirement already satisfied: pandas in /usr/local/lib/python3.8/dist-packages (1.3.5)\n",
            "Requirement already satisfied: numpy>=1.17.3 in /usr/local/lib/python3.8/dist-packages (from pandas) (1.21.6)\n",
            "Requirement already satisfied: python-dateutil>=2.7.3 in /usr/local/lib/python3.8/dist-packages (from pandas) (2.8.2)\n",
            "Requirement already satisfied: pytz>=2017.3 in /usr/local/lib/python3.8/dist-packages (from pandas) (2022.6)\n",
            "Requirement already satisfied: six>=1.5 in /usr/local/lib/python3.8/dist-packages (from python-dateutil>=2.7.3->pandas) (1.15.0)\n",
            "Looking in indexes: https://pypi.org/simple, https://us-python.pkg.dev/colab-wheels/public/simple/\n",
            "Requirement already satisfied: plotly in /usr/local/lib/python3.8/dist-packages (5.5.0)\n",
            "Requirement already satisfied: six in /usr/local/lib/python3.8/dist-packages (from plotly) (1.15.0)\n",
            "Requirement already satisfied: tenacity>=6.2.0 in /usr/local/lib/python3.8/dist-packages (from plotly) (8.1.0)\n",
            "Looking in indexes: https://pypi.org/simple, https://us-python.pkg.dev/colab-wheels/public/simple/\n",
            "Requirement already satisfied: seaborn in /usr/local/lib/python3.8/dist-packages (0.11.2)\n",
            "Requirement already satisfied: numpy>=1.15 in /usr/local/lib/python3.8/dist-packages (from seaborn) (1.21.6)\n",
            "Requirement already satisfied: matplotlib>=2.2 in /usr/local/lib/python3.8/dist-packages (from seaborn) (3.2.2)\n",
            "Requirement already satisfied: pandas>=0.23 in /usr/local/lib/python3.8/dist-packages (from seaborn) (1.3.5)\n",
            "Requirement already satisfied: scipy>=1.0 in /usr/local/lib/python3.8/dist-packages (from seaborn) (1.7.3)\n",
            "Requirement already satisfied: python-dateutil>=2.1 in /usr/local/lib/python3.8/dist-packages (from matplotlib>=2.2->seaborn) (2.8.2)\n",
            "Requirement already satisfied: pyparsing!=2.0.4,!=2.1.2,!=2.1.6,>=2.0.1 in /usr/local/lib/python3.8/dist-packages (from matplotlib>=2.2->seaborn) (3.0.9)\n",
            "Requirement already satisfied: kiwisolver>=1.0.1 in /usr/local/lib/python3.8/dist-packages (from matplotlib>=2.2->seaborn) (1.4.4)\n",
            "Requirement already satisfied: cycler>=0.10 in /usr/local/lib/python3.8/dist-packages (from matplotlib>=2.2->seaborn) (0.11.0)\n",
            "Requirement already satisfied: pytz>=2017.3 in /usr/local/lib/python3.8/dist-packages (from pandas>=0.23->seaborn) (2022.6)\n",
            "Requirement already satisfied: six>=1.5 in /usr/local/lib/python3.8/dist-packages (from python-dateutil>=2.1->matplotlib>=2.2->seaborn) (1.15.0)\n",
            "Looking in indexes: https://pypi.org/simple, https://us-python.pkg.dev/colab-wheels/public/simple/\n",
            "Requirement already satisfied: wordcloud in /usr/local/lib/python3.8/dist-packages (1.8.2.2)\n",
            "Requirement already satisfied: pillow in /usr/local/lib/python3.8/dist-packages (from wordcloud) (7.1.2)\n",
            "Requirement already satisfied: numpy>=1.6.1 in /usr/local/lib/python3.8/dist-packages (from wordcloud) (1.21.6)\n",
            "Requirement already satisfied: matplotlib in /usr/local/lib/python3.8/dist-packages (from wordcloud) (3.2.2)\n",
            "Requirement already satisfied: kiwisolver>=1.0.1 in /usr/local/lib/python3.8/dist-packages (from matplotlib->wordcloud) (1.4.4)\n",
            "Requirement already satisfied: pyparsing!=2.0.4,!=2.1.2,!=2.1.6,>=2.0.1 in /usr/local/lib/python3.8/dist-packages (from matplotlib->wordcloud) (3.0.9)\n",
            "Requirement already satisfied: cycler>=0.10 in /usr/local/lib/python3.8/dist-packages (from matplotlib->wordcloud) (0.11.0)\n",
            "Requirement already satisfied: python-dateutil>=2.1 in /usr/local/lib/python3.8/dist-packages (from matplotlib->wordcloud) (2.8.2)\n",
            "Requirement already satisfied: six>=1.5 in /usr/local/lib/python3.8/dist-packages (from python-dateutil>=2.1->matplotlib->wordcloud) (1.15.0)\n",
            "Looking in indexes: https://pypi.org/simple, https://us-python.pkg.dev/colab-wheels/public/simple/\n",
            "Requirement already satisfied: xgboost in /usr/local/lib/python3.8/dist-packages (0.90)\n",
            "Requirement already satisfied: numpy in /usr/local/lib/python3.8/dist-packages (from xgboost) (1.21.6)\n",
            "Requirement already satisfied: scipy in /usr/local/lib/python3.8/dist-packages (from xgboost) (1.7.3)\n",
            "Looking in indexes: https://pypi.org/simple, https://us-python.pkg.dev/colab-wheels/public/simple/\n",
            "Collecting plost\n",
            "  Downloading Plost-0.2.5.tar.gz (12 kB)\n",
            "Building wheels for collected packages: plost\n",
            "  Building wheel for plost (setup.py) ... \u001b[?25l\u001b[?25hdone\n",
            "  Created wheel for plost: filename=Plost-0.2.5-py3-none-any.whl size=12231 sha256=6e52283e547c68660383d7656cbcb27f7341d3647007e1a6f420503d43b02848\n",
            "  Stored in directory: /root/.cache/pip/wheels/c9/fa/ca/9b7766475c8cf983a8c4e1dfc855fc439f5550e39154ed4cc8\n",
            "Successfully built plost\n",
            "Installing collected packages: plost\n",
            "Successfully installed plost-0.2.5\n"
          ]
        }
      ],
      "source": [
        "! pip install matplotlib\n",
        "! pip install numpy\n",
        "! pip install pandas\n",
        "! pip install plotly\n",
        "! pip install seaborn\n",
        "! pip install wordcloud\n",
        "! pip install xgboost\n",
        "! pip install plost"
      ]
    },
    {
      "cell_type": "code",
      "execution_count": 3,
      "metadata": {
        "colab": {
          "base_uri": "https://localhost:8080/"
        },
        "id": "Hyk3RmjII8Wn",
        "outputId": "8425be8e-5cd0-4a2a-a05a-adca0ed04de4"
      },
      "outputs": [
        {
          "name": "stdout",
          "output_type": "stream",
          "text": [
            "Looking in indexes: https://pypi.org/simple, https://us-python.pkg.dev/colab-wheels/public/simple/\n",
            "Collecting seaborn==0.11.0\n",
            "  Downloading seaborn-0.11.0-py3-none-any.whl (283 kB)\n",
            "\u001b[K     |████████████████████████████████| 283 kB 17.7 MB/s \n",
            "\u001b[?25hRequirement already satisfied: matplotlib>=2.2 in /usr/local/lib/python3.8/dist-packages (from seaborn==0.11.0) (3.2.2)\n",
            "Requirement already satisfied: numpy>=1.15 in /usr/local/lib/python3.8/dist-packages (from seaborn==0.11.0) (1.21.6)\n",
            "Requirement already satisfied: scipy>=1.0 in /usr/local/lib/python3.8/dist-packages (from seaborn==0.11.0) (1.7.3)\n",
            "Requirement already satisfied: pandas>=0.23 in /usr/local/lib/python3.8/dist-packages (from seaborn==0.11.0) (1.3.5)\n",
            "Requirement already satisfied: kiwisolver>=1.0.1 in /usr/local/lib/python3.8/dist-packages (from matplotlib>=2.2->seaborn==0.11.0) (1.4.4)\n",
            "Requirement already satisfied: python-dateutil>=2.1 in /usr/local/lib/python3.8/dist-packages (from matplotlib>=2.2->seaborn==0.11.0) (2.8.2)\n",
            "Requirement already satisfied: cycler>=0.10 in /usr/local/lib/python3.8/dist-packages (from matplotlib>=2.2->seaborn==0.11.0) (0.11.0)\n",
            "Requirement already satisfied: pyparsing!=2.0.4,!=2.1.2,!=2.1.6,>=2.0.1 in /usr/local/lib/python3.8/dist-packages (from matplotlib>=2.2->seaborn==0.11.0) (3.0.9)\n",
            "Requirement already satisfied: pytz>=2017.3 in /usr/local/lib/python3.8/dist-packages (from pandas>=0.23->seaborn==0.11.0) (2022.6)\n",
            "Requirement already satisfied: six>=1.5 in /usr/local/lib/python3.8/dist-packages (from python-dateutil>=2.1->matplotlib>=2.2->seaborn==0.11.0) (1.15.0)\n",
            "Installing collected packages: seaborn\n",
            "  Attempting uninstall: seaborn\n",
            "    Found existing installation: seaborn 0.11.2\n",
            "    Uninstalling seaborn-0.11.2:\n",
            "      Successfully uninstalled seaborn-0.11.2\n",
            "Successfully installed seaborn-0.11.0\n"
          ]
        }
      ],
      "source": [
        "! pip install seaborn==0.11.0"
      ]
    },
    {
      "cell_type": "markdown",
      "metadata": {
        "id": "0iNhIqDv7TLN"
      },
      "source": [
        "# *Connect Google Drive*"
      ]
    },
    {
      "cell_type": "code",
      "execution_count": 4,
      "metadata": {
        "colab": {
          "base_uri": "https://localhost:8080/"
        },
        "id": "mwLN6PTnzz3u",
        "outputId": "d7326f93-3862-42f0-ac29-abbbd1dd0f39"
      },
      "outputs": [
        {
          "name": "stdout",
          "output_type": "stream",
          "text": [
            "Mounted at /content/drive\n"
          ]
        }
      ],
      "source": [
        "from google.colab import drive\n",
        "drive.mount('/content/drive')"
      ]
    },
    {
      "cell_type": "markdown",
      "metadata": {
        "id": "z12S49YX0i7p"
      },
      "source": [
        "# **Streamlit**"
      ]
    },
    {
      "cell_type": "code",
      "execution_count": 7,
      "metadata": {
        "colab": {
          "base_uri": "https://localhost:8080/"
        },
        "id": "OoZ18hyxchED",
        "outputId": "05a76280-5954-43e2-81f0-5659a660a026"
      },
      "outputs": [
        {
          "name": "stdout",
          "output_type": "stream",
          "text": [
            "Writing dashboard_example.py\n"
          ]
        }
      ],
      "source": [
        "%%writefile dashboard_example.py\n",
        "import streamlit as st\n",
        "import itertools\n",
        "import pandas as pd\n",
        "import numpy as np\n",
        "\n",
        "from matplotlib import pyplot as plt\n",
        "from plotly import express as px\n",
        "from plotly.figure_factory import create_distplot\n",
        "from wordcloud import WordCloud\n",
        "import seaborn as sns\n",
        "\n",
        "st.set_page_config(layout='wide', initial_sidebar_state='expanded')\n",
        "\n",
        "st.set_option('deprecation.showPyplotGlobalUse', False)\n",
        "\n",
        "with open('style.css') as f:\n",
        "    st.markdown(f'<style>{f.read()}</style>', unsafe_allow_html=True)\n",
        "    \n",
        "st.sidebar.header('Dashboard')\n",
        "\n",
        "df = pd.read_csv('tidy_data.csv')\n",
        "\n",
        "# Row A\n",
        "\n",
        "col1, col2, col3 = st.columns((4,3,3))\n",
        "\n",
        "with col1:\n",
        "\tst.markdown('### Displot Plot')\n",
        "\tsns.set(rc={\"figure.figsize\":(10, 5)}) \n",
        "\tsns.displot(data=df, x='price', kde=True, kind='hist', height=10, aspect=1.5)\n",
        "\tplt.xticks(np.arange(0, df['price'].max(), 200))\n",
        "\tplt.title('Biểu đồ phân phối của giá tiền')\n",
        "\tst.pyplot()\n",
        "\t\n",
        "\n",
        "with col2:\n",
        "\tst.markdown('### Dot Plot')\n",
        "\ttemp = df.groupby(by=['Laptop purpose', 'Brand'])['Best Sellers Rank'].min().reset_index()\n",
        "\tfig1 = px.scatter(temp, y=\"Laptop purpose\", x=\"Best Sellers Rank\", color=\"Brand\", symbol=\"Brand\")\n",
        "\tplt.title(\"Tốp bán hàng cao nhất của các thương hiệu ở mỗi loại laptop\")\n",
        "\tfig1.update_traces(marker_size=10)\n",
        "\tst.plotly_chart(fig1)\n",
        "\n",
        "with col3:\n",
        "\tst.markdown('### Scatter Plot')\n",
        "\tfig2, ax = plt.subplots(figsize=(7,7))\n",
        "\tsns.set(rc={\"figure.figsize\":(10, 10)}) \n",
        "\tsns.scatterplot(data=df, x=\"price\", y=\"Best Sellers Rank\", hue=\"Best Sellers Rank\", palette='rocket')\n",
        "\tplt.title('Biểu đồ phân tán giữa giá tiền và tốp bán chạy')\n",
        "\tst.pyplot(fig2)\n",
        "\n",
        "# Row B\n",
        "st.markdown('### BoxPlot')\n",
        "c1, c2, c3 = st.columns((2,3,5))\n",
        "with c1:\n",
        "\tdf['weight_cate'] = pd.cut(df['weight'], bins=(0,1,1.5,2,2.5,10), labels=['Super light', 'Light', 'Normal', 'Heavy', 'Super Heavy'])\n",
        "\n",
        "\tdf['price_cate'] = pd.cut(df['price'], bins=[0, 300, 500, 900, 1500, np.inf], labels=['< 300$', '< 500$', '< 900$', '< 1500$', 'Luxury'])\n",
        "\tfig_dims = (5,5)\n",
        "\tfig4, ax = plt.subplots(figsize=fig_dims)\n",
        "\tsns.boxplot(x = 'weight_cate', y = 'price',data=df)\n",
        "\tst.pyplot(fig4)\n",
        "\n",
        "with c2:\n",
        "\tfig, ax = plt.subplots(figsize=(5,4))\n",
        "\tsns.boxplot(data=df, x=df[\"Laptop purpose\"], y=df['price'])\n",
        "\tst.pyplot(fig)\n",
        "\n",
        "with c3:\n",
        "\tfig1, ax = plt.subplots(figsize=(10,4))\n",
        "\tsns.boxplot(data=df, x=df[\"Brand\"], y=df['price'])\n",
        "\tst.pyplot(fig1)\n",
        "\n",
        "# Row C\n",
        "st.markdown('### Histogram Plot')\n",
        "col1, col2, col3, col4, col5 = st.columns(5)\n",
        "\n",
        "with col1:\n",
        "\t\n",
        "\tfig1 = px.histogram(df['weight'], title='Distribution of weight', marginal='box')\n",
        "\tst.plotly_chart(fig1)\n",
        "\t\n",
        "with col2:\n",
        "\n",
        "\tfig2 = px.histogram(df['CPU rank'], title='Distribution of CPU rank', marginal='box')\n",
        "\tst.plotly_chart(fig2)\n",
        "\n",
        "with col3:\n",
        "\n",
        "\tfig3 = px.histogram(df['GPU performance'], title='Distribution of GPU performance', marginal='box')\n",
        "\tst.plotly_chart(fig3)\n",
        "\n",
        "with col4:\n",
        "\n",
        "\tfig4 = px.histogram(df['Brand'], title='Distribution of Brand', marginal='box')\n",
        "\tst.plotly_chart(fig4)\n",
        "\n",
        "with col5:\n",
        "\n",
        "\tfig5 = px.histogram(df['RAM type'], title='Distribution of RAM type', marginal='box')\n",
        "\tst.plotly_chart(fig5)\n",
        "\n",
        "# Row D\n",
        "c1, c3 = st.columns((5,5))\n",
        "with c1:\n",
        "\tst.markdown('### Sunburst Plot')\n",
        "\tpath_col = ['Brand', 'Laptop purpose']\n",
        "\tfor col in df.columns:\n",
        "\t\tif(col not in path_col):\n",
        "\t\t\t\tfree_col=col\n",
        "\t\t\t\tbreak\n",
        "\tgrouped=df.groupby(by=path_col)[free_col].count().reset_index()\n",
        "\tgrouped['#'+path_col[0]]='#'+path_col[0]\n",
        "\tpath_col.insert(0, '#'+path_col[0])\n",
        "\tfig3 = px.sunburst(grouped, path=path_col, values=free_col, width=750, height=750)\n",
        "\tst.plotly_chart(fig3)\n",
        "\n",
        "with c3:\n",
        "\tst.markdown('### Heatmap')\n",
        "\tfig = plt.figure(figsize=(12,12))\n",
        "\tsns.heatmap(df.corr(),annot=True,cmap='Blues')\n",
        "\tst.pyplot(fig)"
      ]
    },
    {
      "cell_type": "code",
      "execution_count": 8,
      "metadata": {
        "colab": {
          "base_uri": "https://localhost:8080/"
        },
        "id": "-mcmWXxUdU_x",
        "outputId": "e412ebd3-f188-491d-bd4b-fc55ff7edcb6"
      },
      "outputs": [
        {
          "name": "stdout",
          "output_type": "stream",
          "text": [
            "^C\n"
          ]
        }
      ],
      "source": [
        "!streamlit run dashboard.py & npx localtunnel --port 8501"
      ]
    },
    {
      "cell_type": "code",
      "execution_count": null,
      "metadata": {},
      "outputs": [],
      "source": []
    }
  ],
  "metadata": {
    "accelerator": "GPU",
    "colab": {
      "provenance": []
    },
    "gpuClass": "standard",
    "kernelspec": {
      "display_name": "Python 3.10.6 ('ds105_project')",
      "language": "python",
      "name": "python3"
    },
    "language_info": {
      "codemirror_mode": {
        "name": "ipython",
        "version": 3
      },
      "file_extension": ".py",
      "mimetype": "text/x-python",
      "name": "python",
      "nbconvert_exporter": "python",
      "pygments_lexer": "ipython3",
      "version": "3.10.6"
    },
    "vscode": {
      "interpreter": {
        "hash": "91afdd06f42c92c0f12f43015620c2d978ccab671f373d131a66cf4ff58b7a46"
      }
    }
  },
  "nbformat": 4,
  "nbformat_minor": 0
}
